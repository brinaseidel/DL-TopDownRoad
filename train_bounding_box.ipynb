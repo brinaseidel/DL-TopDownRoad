{
 "cells": [
  {
   "cell_type": "markdown",
   "metadata": {},
   "source": [
    "# Train Bounding Box model\n",
    "\n",
    "This notebook trains a model to take in six images from the car's point of view, and output a bird's eye view of the bouding boxes around surrounding objects. \n",
    "\n"
   ]
  },
  {
   "cell_type": "code",
   "execution_count": 1,
   "metadata": {},
   "outputs": [],
   "source": [
    "import os\n",
    "import random\n",
    "\n",
    "import numpy as np\n",
    "import pandas as pd\n",
    "\n",
    "import matplotlib\n",
    "import matplotlib.pyplot as plt\n",
    "matplotlib.rcParams['figure.figsize'] = [3, 3]\n",
    "matplotlib.rcParams['figure.dpi'] = 200\n",
    "\n",
    "import torch\n",
    "import torch.nn as nn\n",
    "import torch.nn.functional as F\n",
    "import torchvision\n",
    "import torch.optim as optim\n",
    "import torch.optim.lr_scheduler as lr_scheduler\n",
    "\n",
    "#!conda install -c conda-forge opencv -y\n",
    "import cv2 \n",
    "from yolov3 import *\n",
    "\n",
    "\n",
    "from data_helper import UnlabeledDataset, LabeledDataset\n",
    "from helper import collate_fn, draw_box\n"
   ]
  },
  {
   "cell_type": "code",
   "execution_count": 2,
   "metadata": {},
   "outputs": [
    {
     "data": {
      "text/plain": [
       "device(type='cuda', index=0)"
      ]
     },
     "execution_count": 2,
     "metadata": {},
     "output_type": "execute_result"
    }
   ],
   "source": [
    "device = torch.device(\"cuda:0\" if torch.cuda.is_available() else \"cpu\")\n",
    "torch.cuda.empty_cache()\n",
    "device"
   ]
  },
  {
   "cell_type": "code",
   "execution_count": 3,
   "metadata": {},
   "outputs": [],
   "source": [
    "random.seed(0)\n",
    "np.random.seed(0)\n",
    "torch.manual_seed(0);"
   ]
  },
  {
   "cell_type": "code",
   "execution_count": 4,
   "metadata": {},
   "outputs": [],
   "source": [
    "# All the images are saved in image_folder\n",
    "# All the labels are saved in the annotation_csv file\n",
    "image_folder = '/scratch/bs3743/DL-TopDownRoad/data'\n",
    "annotation_csv = '/scratch/bs3743/DL-TopDownRoad/data/annotation.csv'"
   ]
  },
  {
   "cell_type": "markdown",
   "metadata": {},
   "source": [
    "### Read in the labeled training data, and split into a training and validation set"
   ]
  },
  {
   "cell_type": "code",
   "execution_count": 5,
   "metadata": {},
   "outputs": [],
   "source": [
    "# The scenes from 106 - 133 are labeled\n",
    "labeled_scene_index = np.arange(106, 134)"
   ]
  },
  {
   "cell_type": "code",
   "execution_count": 6,
   "metadata": {},
   "outputs": [
    {
     "name": "stdout",
     "output_type": "stream",
     "text": [
      "Train scenes: 21 \n",
      "Val scenes: 7\n"
     ]
    }
   ],
   "source": [
    "# Split 75/25 into training and validation\n",
    "random.shuffle(labeled_scene_index)\n",
    "labeled_scene_index_train = labeled_scene_index[0:21]\n",
    "labeled_scene_index_val = labeled_scene_index[21:28]\n",
    "print(\"Train scenes: {} \\nVal scenes: {}\".format(len(labeled_scene_index_train), len(labeled_scene_index_val)))"
   ]
  },
  {
   "cell_type": "code",
   "execution_count": 7,
   "metadata": {},
   "outputs": [],
   "source": [
    "transform = torchvision.transforms.ToTensor()"
   ]
  },
  {
   "cell_type": "code",
   "execution_count": 8,
   "metadata": {},
   "outputs": [],
   "source": [
    "# The labeled dataset can only be retrieved by sample.\n",
    "# And all the returned data are tuple of tensors, since bounding boxes may have different size\n",
    "labeled_trainset = LabeledDataset(image_folder=image_folder,\n",
    "                                  annotation_file=annotation_csv,\n",
    "                                  scene_index=labeled_scene_index_train,\n",
    "                                  transform=transform,\n",
    "                                  extra_info=False\n",
    "                                 )\n",
    "trainloader = torch.utils.data.DataLoader(labeled_trainset, batch_size=2, shuffle=True, num_workers=2, collate_fn=collate_fn)"
   ]
  },
  {
   "cell_type": "code",
   "execution_count": 9,
   "metadata": {},
   "outputs": [],
   "source": [
    "labeled_valset = LabeledDataset(image_folder=image_folder,\n",
    "                                  annotation_file=annotation_csv,\n",
    "                                  scene_index=labeled_scene_index_val,\n",
    "                                  transform=transform,\n",
    "                                  extra_info=False\n",
    "                                 )\n",
    "valloader = torch.utils.data.DataLoader(labeled_valset, batch_size=2, shuffle=True, num_workers=2, collate_fn=collate_fn)"
   ]
  },
  {
   "cell_type": "code",
   "execution_count": 10,
   "metadata": {},
   "outputs": [
    {
     "name": "stdout",
     "output_type": "stream",
     "text": [
      "torch.Size([2, 6, 3, 256, 306])\n"
     ]
    }
   ],
   "source": [
    "sample, target, road_image = iter(trainloader).next()\n",
    "print(torch.stack(sample).shape)\n",
    "#print(torch.stack(sample)[:, 1, :, :].shape)"
   ]
  },
  {
   "cell_type": "markdown",
   "metadata": {},
   "source": [
    "### Train the model"
   ]
  },
  {
   "cell_type": "code",
   "execution_count": 11,
   "metadata": {},
   "outputs": [],
   "source": [
    "# Create model config\n",
    "\n",
    "config = \"yolov3-spp.cfg\"\n",
    "hyp = {'giou': 3.54,  # giou loss gain\n",
    "       'cls': 2.4,  # cls loss gain\n",
    "       'cls_pw': 1.0,  # cls BCELoss positive_weight\n",
    "       'obj': 64.3,  # obj loss gain (*=img_size/320 if img_size != 320)\n",
    "       'obj_pw': 1.0,  # obj BCELoss positive_weight\n",
    "       'iou_t': 0.20,  # iou training threshold\n",
    "       'lr0': 0.0001,  # initial learning rate (SGD=5E-3, Adam=5E-4)\n",
    "       'lrf': 0.00005,  # final learning rate (with cos scheduler)\n",
    "       'momentum': 0.937,  # SGD momentum\n",
    "       'weight_decay': 0.000484,  # optimizer weight decay\n",
    "       'fl_gamma': 0.0,  # focal loss gamma (efficientDet default is gamma=1.5)\n",
    "       'hsv_h': 0.0138,  # image HSV-Hue augmentation (fraction)\n",
    "       'hsv_s': 0.678,  # image HSV-Saturation augmentation (fraction)\n",
    "       'hsv_v': 0.36,  # image HSV-Value augmentation (fraction)\n",
    "       'degrees': 1.98 * 0,  # image rotation (+/- deg)\n",
    "       'translate': 0.05 * 0,  # image translation (+/- fraction)\n",
    "       'scale': 0.05 * 0,  # image scale (+/- gain)\n",
    "       'shear': 0.641 * 0}  # image shear (+/- deg)"
   ]
  },
  {
   "cell_type": "code",
   "execution_count": 12,
   "metadata": {},
   "outputs": [
    {
     "name": "stdout",
     "output_type": "stream",
     "text": [
      "Model Summary: 225 layers, 6.25777e+07 parameters, 6.25777e+07 gradients\n"
     ]
    }
   ],
   "source": [
    "# Initialize model\n",
    "\n",
    "model = Darknet(config, verbose=False).to(device)\n",
    "#ONNX_EXPORT = False\n"
   ]
  },
  {
   "cell_type": "code",
   "execution_count": 13,
   "metadata": {},
   "outputs": [],
   "source": [
    "# Intialize optimizer\n",
    "pg0, pg1, pg2 = [], [], []  # optimizer parameter groups\n",
    "for k, v in dict(model.named_parameters()).items():\n",
    "    if '.bias' in k:\n",
    "        if v.is_leaf:\n",
    "            pg2 += [v]  # biases\n",
    "    elif 'Conv2d.weight' in k:\n",
    "        pg1 += [v]  # apply weight_decay\n",
    "    else:\n",
    "        pg0 += [v]  # all else\n",
    "\n",
    "optimizer = optim.Adam(pg0, lr=hyp['lr0'])\n",
    "optimizer.add_param_group({'params': pg1, 'weight_decay': hyp['weight_decay']})  # add pg1 with weight_decay\n",
    "optimizer.add_param_group({'params': pg2})  # add pg2 (biases)\n",
    "del pg0, pg1, pg2"
   ]
  },
  {
   "cell_type": "code",
   "execution_count": 14,
   "metadata": {},
   "outputs": [],
   "source": [
    "# Create training function\n",
    "def train(train_loader, model, optimizer, criterion, epoch, sixinput):\n",
    "    \n",
    "    model.train()\n",
    "\n",
    "    for batch_idx, (sample, target, road_image) in enumerate(train_loader):\n",
    "\n",
    "        # Rework target into expected format:\n",
    "        # A tensor of size [B, 6]\n",
    "        # where B is the total # of bounding boxes for all observvations in the batch \n",
    "        # and 6 is [id, class, x, y, w, h] (class is always 0, since we're not doing classification)\n",
    "        # Target is originally front left, front right, back left and back right\n",
    "        # Note: for boxes not aligned with the x-y axis, this will draw a box with the same center but a maximal width-height that *is* aligned\n",
    "        # The original range is xy values from from -40 to 40. We also rescale so that x values are from 0 to 1\n",
    "        target_yolo = torch.zeros(0,6)\n",
    "        for i, obs in enumerate(target):\n",
    "            boxes = (obs['bounding_box'] + 40)/80\n",
    "            boxes_yolo = torch.zeros(boxes.shape[0], 6)\n",
    "            for box in range(boxes.shape[0]):\n",
    "                cls = 0\n",
    "                x_center = 0.5*(boxes[box, 0, 0] + boxes[box, 0, 3])\n",
    "                y_center = 0.5*(boxes[box, 1, 0] + boxes[box, 1, 3])\n",
    "                width = max(boxes[box, 0, :]) - min(boxes[box, 0, :])\n",
    "                height = max(boxes[box, 1, :]) - min(boxes[box, 1, :])\n",
    "                boxes_yolo[box] = torch.tensor([i, cls, x_center, y_center, width, height])\n",
    "            target_yolo = torch.cat((target_yolo, boxes_yolo), 0)\n",
    "\n",
    "        # Send to device\n",
    "        sample = torch.stack(sample).to(device)\n",
    "        target_yolo = target_yolo.to(device)\n",
    "\n",
    "        # Make input the correct shape\n",
    "        if sixinput==False:\n",
    "            batch_size = sample.shape[0]\n",
    "            sample = sample.view(batch_size, -1, 256, 306) # torch.Size([3, 18, 256, 306])\n",
    "\n",
    "        # Run through model\n",
    "        optimizer.zero_grad()\n",
    "        output = model(sample)\n",
    "\n",
    "        # Calculate loss and take step\n",
    "        loss, loss_items = compute_loss(output, target_yolo, model, hyp) # Note: this is defined in yolov3.py\n",
    "        if not torch.isfinite(loss):\n",
    "            print('WARNING: non-finite loss.')\n",
    "        loss.backward()\n",
    "        optimizer.step()\n",
    "\n",
    "        # Log progress\n",
    "        if batch_idx % 100 == 0:\n",
    "            print('\\tTrain Epoch: {} [{}/{} ({:.0f}%)]\\tLoss: {:.6f}'.format(\n",
    "                epoch, batch_idx * len(sample), len(train_loader.dataset),\n",
    "                100. * batch_idx / len(train_loader), loss.item()))\n",
    "                \n",
    "    return\n"
   ]
  },
  {
   "cell_type": "code",
   "execution_count": 15,
   "metadata": {},
   "outputs": [],
   "source": [
    "# Create an evaluation function\n",
    "def evaluate(val_loader, model, sixinput):\n",
    "    model.eval()\n",
    "    losses = []\n",
    "    tp, fp, fn = 0, 0, 0\n",
    "    for batch_idx, (sample, target, road_image) in enumerate(val_loader):\n",
    "        \n",
    "        # Rework target into expected format:\n",
    "        # A tensor of size [B, 6]\n",
    "        # where B is the total # of bounding boxes for all observvations in the batch \n",
    "        # and 6 is [id, class, x, y, w, h] (class is always 0, since we're not doing classification)\n",
    "        # Target is originally front left, front right, back left and back right\n",
    "        # Note: for boxes not aligned with the x-y axis, this will draw a box with the same center but a maximal width-height that *is* aligned\n",
    "        # The original range is xy values from from -40 to 40. We also rescale so that x values are from 0 to 1\n",
    "        # \"Box coordinates must be in normalized xywh format (from 0 - 1). If your boxes are in pixels, divide x_center and width by image width, and y_center and height by image height.\"\n",
    "        target_yolo = torch.zeros(0,6)\n",
    "        for i, obs in enumerate(target):\n",
    "            boxes = (obs['bounding_box'] + 40)/80\n",
    "            boxes_yolo = torch.zeros(boxes.shape[0], 6)\n",
    "            for box in range(boxes.shape[0]):\n",
    "                cls = 0\n",
    "                x_center = 0.5*(boxes[box, 0, 0] + boxes[box, 0, 3])\n",
    "                y_center = 0.5*(boxes[box, 1, 0] + boxes[box, 1, 3])\n",
    "                width = max(boxes[box, 0, :]) - min(boxes[box, 0, :])\n",
    "                height = max(boxes[box, 1, :]) - min(boxes[box, 1, :])\n",
    "                boxes_yolo[box] = torch.tensor([i, cls, x_center, y_center, width, height])\n",
    "            target_yolo = torch.cat((target_yolo, boxes_yolo), 0)\n",
    "        \n",
    "        # Send to device\n",
    "        sample = torch.stack(sample).to(device)\n",
    "        target_yolo = target_yolo.to(device)\n",
    "         \n",
    "        # Make input the correct shape\n",
    "        if sixinput==False:\n",
    "            batch_size = sample.shape[0]\n",
    "            sample = sample.view(batch_size, -1, 256, 306) # torch.Size([3, 18, 256, 306])\n",
    "        \n",
    "        # Run through model\n",
    "        with torch.no_grad():\n",
    "            output = model(sample)\n",
    "        # Calculate loss\n",
    "        #print(output[0].shape)\n",
    "        loss, loss_items = compute_loss(output[1], target_yolo, model, hyp) # Note: this is defined in yolov3.py\n",
    "        losses.append(loss)\n",
    "    \n",
    "    # Calculate metrics\n",
    "    loss = sum(losses)/len(losses)\n",
    "    \n",
    "    return loss\n"
   ]
  },
  {
   "cell_type": "code",
   "execution_count": 16,
   "metadata": {},
   "outputs": [
    {
     "name": "stdout",
     "output_type": "stream",
     "text": [
      "\tTrain Epoch: 0 [0/2646 (0%)]\tLoss: 10.482500\n",
      "\tTrain Epoch: 0 [200/2646 (8%)]\tLoss: 4.734860\n",
      "\tTrain Epoch: 0 [400/2646 (15%)]\tLoss: 5.984637\n",
      "\tTrain Epoch: 0 [600/2646 (23%)]\tLoss: 9.504921\n",
      "\tTrain Epoch: 0 [800/2646 (30%)]\tLoss: 3.962355\n",
      "\tTrain Epoch: 0 [1000/2646 (38%)]\tLoss: 3.387667\n",
      "\tTrain Epoch: 0 [1200/2646 (45%)]\tLoss: 3.447982\n",
      "\tTrain Epoch: 0 [1400/2646 (53%)]\tLoss: 6.019710\n",
      "\tTrain Epoch: 0 [1600/2646 (60%)]\tLoss: 7.455266\n",
      "\tTrain Epoch: 0 [1800/2646 (68%)]\tLoss: 6.022396\n",
      "\tTrain Epoch: 0 [2000/2646 (76%)]\tLoss: 3.975966\n",
      "\tTrain Epoch: 0 [2200/2646 (83%)]\tLoss: 3.386369\n",
      "\tTrain Epoch: 0 [2400/2646 (91%)]\tLoss: 4.544101\n",
      "\tTrain Epoch: 0 [2600/2646 (98%)]\tLoss: 4.210502\n",
      "Evaluating after Epoch 0:\n",
      "Val loss is tensor([5.31724])\n",
      "\tTrain Epoch: 1 [0/2646 (0%)]\tLoss: 5.233622\n",
      "\tTrain Epoch: 1 [200/2646 (8%)]\tLoss: 2.081358\n",
      "\tTrain Epoch: 1 [400/2646 (15%)]\tLoss: 4.674491\n",
      "\tTrain Epoch: 1 [600/2646 (23%)]\tLoss: 6.407662\n",
      "\tTrain Epoch: 1 [800/2646 (30%)]\tLoss: 5.409310\n",
      "\tTrain Epoch: 1 [1000/2646 (38%)]\tLoss: 3.889301\n",
      "\tTrain Epoch: 1 [1200/2646 (45%)]\tLoss: 5.204278\n",
      "\tTrain Epoch: 1 [1400/2646 (53%)]\tLoss: 7.684945\n",
      "\tTrain Epoch: 1 [1600/2646 (60%)]\tLoss: 2.851245\n",
      "\tTrain Epoch: 1 [1800/2646 (68%)]\tLoss: 4.561085\n",
      "\tTrain Epoch: 1 [2000/2646 (76%)]\tLoss: 7.786763\n",
      "\tTrain Epoch: 1 [2200/2646 (83%)]\tLoss: 6.098800\n",
      "\tTrain Epoch: 1 [2400/2646 (91%)]\tLoss: 3.669053\n",
      "\tTrain Epoch: 1 [2600/2646 (98%)]\tLoss: 3.486603\n",
      "Evaluating after Epoch 1:\n",
      "Val loss is tensor([4.97693])\n",
      "\tTrain Epoch: 2 [0/2646 (0%)]\tLoss: 2.186892\n",
      "\tTrain Epoch: 2 [200/2646 (8%)]\tLoss: 3.742745\n",
      "\tTrain Epoch: 2 [400/2646 (15%)]\tLoss: 4.547334\n",
      "\tTrain Epoch: 2 [600/2646 (23%)]\tLoss: 3.301547\n",
      "\tTrain Epoch: 2 [800/2646 (30%)]\tLoss: 3.623971\n",
      "\tTrain Epoch: 2 [1000/2646 (38%)]\tLoss: 2.562977\n",
      "\tTrain Epoch: 2 [1200/2646 (45%)]\tLoss: 2.723569\n",
      "\tTrain Epoch: 2 [1400/2646 (53%)]\tLoss: 3.746568\n",
      "\tTrain Epoch: 2 [1600/2646 (60%)]\tLoss: 7.091246\n",
      "\tTrain Epoch: 2 [1800/2646 (68%)]\tLoss: 3.858695\n",
      "\tTrain Epoch: 2 [2000/2646 (76%)]\tLoss: 3.790980\n",
      "\tTrain Epoch: 2 [2200/2646 (83%)]\tLoss: 3.657077\n",
      "\tTrain Epoch: 2 [2400/2646 (91%)]\tLoss: 2.740395\n",
      "\tTrain Epoch: 2 [2600/2646 (98%)]\tLoss: 4.737519\n",
      "Evaluating after Epoch 2:\n",
      "Val loss is tensor([4.94695])\n",
      "\tTrain Epoch: 3 [0/2646 (0%)]\tLoss: 7.497125\n",
      "\tTrain Epoch: 3 [200/2646 (8%)]\tLoss: 4.457232\n",
      "\tTrain Epoch: 3 [400/2646 (15%)]\tLoss: 3.295712\n",
      "\tTrain Epoch: 3 [600/2646 (23%)]\tLoss: 4.176288\n",
      "\tTrain Epoch: 3 [800/2646 (30%)]\tLoss: 2.444650\n",
      "\tTrain Epoch: 3 [1000/2646 (38%)]\tLoss: 3.168387\n",
      "\tTrain Epoch: 3 [1200/2646 (45%)]\tLoss: 3.236937\n",
      "\tTrain Epoch: 3 [1400/2646 (53%)]\tLoss: 4.989393\n",
      "\tTrain Epoch: 3 [1600/2646 (60%)]\tLoss: 3.202772\n",
      "\tTrain Epoch: 3 [1800/2646 (68%)]\tLoss: 4.370507\n",
      "\tTrain Epoch: 3 [2000/2646 (76%)]\tLoss: 3.501881\n",
      "\tTrain Epoch: 3 [2200/2646 (83%)]\tLoss: 3.646777\n",
      "\tTrain Epoch: 3 [2400/2646 (91%)]\tLoss: 4.345329\n",
      "\tTrain Epoch: 3 [2600/2646 (98%)]\tLoss: 8.757214\n",
      "Evaluating after Epoch 3:\n",
      "Val loss is tensor([4.88837])\n",
      "\tTrain Epoch: 4 [0/2646 (0%)]\tLoss: 6.169426\n",
      "\tTrain Epoch: 4 [200/2646 (8%)]\tLoss: 3.701352\n",
      "\tTrain Epoch: 4 [400/2646 (15%)]\tLoss: 5.883111\n",
      "\tTrain Epoch: 4 [600/2646 (23%)]\tLoss: 5.203564\n",
      "\tTrain Epoch: 4 [800/2646 (30%)]\tLoss: 3.033301\n",
      "\tTrain Epoch: 4 [1000/2646 (38%)]\tLoss: 3.629296\n",
      "\tTrain Epoch: 4 [1200/2646 (45%)]\tLoss: 3.004890\n",
      "\tTrain Epoch: 4 [1400/2646 (53%)]\tLoss: 2.515556\n",
      "\tTrain Epoch: 4 [1600/2646 (60%)]\tLoss: 3.007237\n",
      "\tTrain Epoch: 4 [1800/2646 (68%)]\tLoss: 3.037759\n",
      "\tTrain Epoch: 4 [2000/2646 (76%)]\tLoss: 2.593359\n",
      "\tTrain Epoch: 4 [2200/2646 (83%)]\tLoss: 6.111316\n",
      "\tTrain Epoch: 4 [2400/2646 (91%)]\tLoss: 3.679231\n",
      "\tTrain Epoch: 4 [2600/2646 (98%)]\tLoss: 2.981956\n",
      "Evaluating after Epoch 4:\n",
      "Val loss is tensor([4.91953])\n",
      "\tTrain Epoch: 5 [0/2646 (0%)]\tLoss: 5.152295\n",
      "\tTrain Epoch: 5 [200/2646 (8%)]\tLoss: 3.261356\n",
      "\tTrain Epoch: 5 [400/2646 (15%)]\tLoss: 3.993865\n",
      "\tTrain Epoch: 5 [600/2646 (23%)]\tLoss: 4.487677\n",
      "\tTrain Epoch: 5 [800/2646 (30%)]\tLoss: 3.262527\n",
      "\tTrain Epoch: 5 [1000/2646 (38%)]\tLoss: 4.652632\n",
      "\tTrain Epoch: 5 [1200/2646 (45%)]\tLoss: 3.780977\n",
      "\tTrain Epoch: 5 [1400/2646 (53%)]\tLoss: 5.852698\n",
      "\tTrain Epoch: 5 [1600/2646 (60%)]\tLoss: 4.738609\n",
      "\tTrain Epoch: 5 [1800/2646 (68%)]\tLoss: 2.483890\n",
      "\tTrain Epoch: 5 [2000/2646 (76%)]\tLoss: 5.206651\n",
      "\tTrain Epoch: 5 [2200/2646 (83%)]\tLoss: 4.232887\n",
      "\tTrain Epoch: 5 [2400/2646 (91%)]\tLoss: 3.897578\n",
      "\tTrain Epoch: 5 [2600/2646 (98%)]\tLoss: 3.680688\n",
      "Evaluating after Epoch 5:\n",
      "Val loss is tensor([4.96253])\n",
      "\tTrain Epoch: 6 [0/2646 (0%)]\tLoss: 2.678416\n",
      "\tTrain Epoch: 6 [200/2646 (8%)]\tLoss: 3.488343\n",
      "\tTrain Epoch: 6 [400/2646 (15%)]\tLoss: 2.645192\n",
      "\tTrain Epoch: 6 [600/2646 (23%)]\tLoss: 2.344493\n",
      "\tTrain Epoch: 6 [800/2646 (30%)]\tLoss: 3.125446\n",
      "\tTrain Epoch: 6 [1000/2646 (38%)]\tLoss: 3.417589\n",
      "\tTrain Epoch: 6 [1200/2646 (45%)]\tLoss: 2.699460\n",
      "\tTrain Epoch: 6 [1400/2646 (53%)]\tLoss: 1.646854\n",
      "\tTrain Epoch: 6 [1600/2646 (60%)]\tLoss: 3.275853\n",
      "\tTrain Epoch: 6 [1800/2646 (68%)]\tLoss: 1.935211\n",
      "\tTrain Epoch: 6 [2000/2646 (76%)]\tLoss: 2.816386\n",
      "\tTrain Epoch: 6 [2200/2646 (83%)]\tLoss: 4.113391\n",
      "\tTrain Epoch: 6 [2400/2646 (91%)]\tLoss: 4.319913\n",
      "\tTrain Epoch: 6 [2600/2646 (98%)]\tLoss: 5.712081\n",
      "Evaluating after Epoch 6:\n",
      "Val loss is tensor([4.88718])\n",
      "\tTrain Epoch: 7 [0/2646 (0%)]\tLoss: 7.648783\n",
      "\tTrain Epoch: 7 [200/2646 (8%)]\tLoss: 5.429219\n",
      "\tTrain Epoch: 7 [400/2646 (15%)]\tLoss: 2.966006\n",
      "\tTrain Epoch: 7 [600/2646 (23%)]\tLoss: 2.435974\n",
      "\tTrain Epoch: 7 [800/2646 (30%)]\tLoss: 8.308840\n",
      "\tTrain Epoch: 7 [1000/2646 (38%)]\tLoss: 5.847390\n",
      "\tTrain Epoch: 7 [1200/2646 (45%)]\tLoss: 2.173973\n",
      "\tTrain Epoch: 7 [1400/2646 (53%)]\tLoss: 3.173056\n",
      "\tTrain Epoch: 7 [1600/2646 (60%)]\tLoss: 3.463639\n",
      "\tTrain Epoch: 7 [1800/2646 (68%)]\tLoss: 2.763404\n",
      "\tTrain Epoch: 7 [2000/2646 (76%)]\tLoss: 6.177231\n",
      "\tTrain Epoch: 7 [2200/2646 (83%)]\tLoss: 2.351006\n",
      "\tTrain Epoch: 7 [2400/2646 (91%)]\tLoss: 6.082323\n",
      "\tTrain Epoch: 7 [2600/2646 (98%)]\tLoss: 5.066036\n",
      "Evaluating after Epoch 7:\n",
      "Val loss is tensor([4.96958])\n",
      "\tTrain Epoch: 8 [0/2646 (0%)]\tLoss: 4.031202\n",
      "\tTrain Epoch: 8 [200/2646 (8%)]\tLoss: 2.380836\n",
      "\tTrain Epoch: 8 [400/2646 (15%)]\tLoss: 4.193283\n",
      "\tTrain Epoch: 8 [600/2646 (23%)]\tLoss: 4.007797\n"
     ]
    },
    {
     "ename": "KeyboardInterrupt",
     "evalue": "",
     "output_type": "error",
     "traceback": [
      "\u001b[0;31m---------------------------------------------------------------------------\u001b[0m",
      "\u001b[0;31mKeyboardInterrupt\u001b[0m                         Traceback (most recent call last)",
      "\u001b[0;32m<ipython-input-16-55265e51ba25>\u001b[0m in \u001b[0;36m<module>\u001b[0;34m\u001b[0m\n\u001b[1;32m      7\u001b[0m \u001b[0;34m\u001b[0m\u001b[0m\n\u001b[1;32m      8\u001b[0m     \u001b[0;31m# Train for one epoch\u001b[0m\u001b[0;34m\u001b[0m\u001b[0;34m\u001b[0m\u001b[0;34m\u001b[0m\u001b[0m\n\u001b[0;32m----> 9\u001b[0;31m     \u001b[0mtrain\u001b[0m\u001b[0;34m(\u001b[0m\u001b[0mtrainloader\u001b[0m\u001b[0;34m,\u001b[0m \u001b[0mmodel\u001b[0m\u001b[0;34m,\u001b[0m \u001b[0moptimizer\u001b[0m\u001b[0;34m,\u001b[0m \u001b[0;32mNone\u001b[0m\u001b[0;34m,\u001b[0m \u001b[0mepoch\u001b[0m\u001b[0;34m,\u001b[0m \u001b[0msixinput\u001b[0m\u001b[0;34m=\u001b[0m\u001b[0;32mFalse\u001b[0m\u001b[0;34m)\u001b[0m\u001b[0;34m\u001b[0m\u001b[0;34m\u001b[0m\u001b[0m\n\u001b[0m\u001b[1;32m     10\u001b[0m \u001b[0;34m\u001b[0m\u001b[0m\n\u001b[1;32m     11\u001b[0m     \u001b[0;31m# Evaluate at the end of the epoch\u001b[0m\u001b[0;34m\u001b[0m\u001b[0;34m\u001b[0m\u001b[0;34m\u001b[0m\u001b[0m\n",
      "\u001b[0;32m<ipython-input-14-be9ef5d2a27e>\u001b[0m in \u001b[0;36mtrain\u001b[0;34m(train_loader, model, optimizer, criterion, epoch, sixinput)\u001b[0m\n\u001b[1;32m     44\u001b[0m             \u001b[0mprint\u001b[0m\u001b[0;34m(\u001b[0m\u001b[0;34m'WARNING: non-finite loss.'\u001b[0m\u001b[0;34m)\u001b[0m\u001b[0;34m\u001b[0m\u001b[0;34m\u001b[0m\u001b[0m\n\u001b[1;32m     45\u001b[0m         \u001b[0mloss\u001b[0m\u001b[0;34m.\u001b[0m\u001b[0mbackward\u001b[0m\u001b[0;34m(\u001b[0m\u001b[0;34m)\u001b[0m\u001b[0;34m\u001b[0m\u001b[0;34m\u001b[0m\u001b[0m\n\u001b[0;32m---> 46\u001b[0;31m         \u001b[0moptimizer\u001b[0m\u001b[0;34m.\u001b[0m\u001b[0mstep\u001b[0m\u001b[0;34m(\u001b[0m\u001b[0;34m)\u001b[0m\u001b[0;34m\u001b[0m\u001b[0;34m\u001b[0m\u001b[0m\n\u001b[0m\u001b[1;32m     47\u001b[0m \u001b[0;34m\u001b[0m\u001b[0m\n\u001b[1;32m     48\u001b[0m         \u001b[0;31m# Log progress\u001b[0m\u001b[0;34m\u001b[0m\u001b[0;34m\u001b[0m\u001b[0;34m\u001b[0m\u001b[0m\n",
      "\u001b[0;32m~/.conda/envs/nlp/lib/python3.6/site-packages/torch/optim/adam.py\u001b[0m in \u001b[0;36mstep\u001b[0;34m(self, closure)\u001b[0m\n\u001b[1;32m     93\u001b[0m \u001b[0;34m\u001b[0m\u001b[0m\n\u001b[1;32m     94\u001b[0m                 \u001b[0;31m# Decay the first and second moment running average coefficient\u001b[0m\u001b[0;34m\u001b[0m\u001b[0;34m\u001b[0m\u001b[0;34m\u001b[0m\u001b[0m\n\u001b[0;32m---> 95\u001b[0;31m                 \u001b[0mexp_avg\u001b[0m\u001b[0;34m.\u001b[0m\u001b[0mmul_\u001b[0m\u001b[0;34m(\u001b[0m\u001b[0mbeta1\u001b[0m\u001b[0;34m)\u001b[0m\u001b[0;34m.\u001b[0m\u001b[0madd_\u001b[0m\u001b[0;34m(\u001b[0m\u001b[0;36m1\u001b[0m \u001b[0;34m-\u001b[0m \u001b[0mbeta1\u001b[0m\u001b[0;34m,\u001b[0m \u001b[0mgrad\u001b[0m\u001b[0;34m)\u001b[0m\u001b[0;34m\u001b[0m\u001b[0;34m\u001b[0m\u001b[0m\n\u001b[0m\u001b[1;32m     96\u001b[0m                 \u001b[0mexp_avg_sq\u001b[0m\u001b[0;34m.\u001b[0m\u001b[0mmul_\u001b[0m\u001b[0;34m(\u001b[0m\u001b[0mbeta2\u001b[0m\u001b[0;34m)\u001b[0m\u001b[0;34m.\u001b[0m\u001b[0maddcmul_\u001b[0m\u001b[0;34m(\u001b[0m\u001b[0;36m1\u001b[0m \u001b[0;34m-\u001b[0m \u001b[0mbeta2\u001b[0m\u001b[0;34m,\u001b[0m \u001b[0mgrad\u001b[0m\u001b[0;34m,\u001b[0m \u001b[0mgrad\u001b[0m\u001b[0;34m)\u001b[0m\u001b[0;34m\u001b[0m\u001b[0;34m\u001b[0m\u001b[0m\n\u001b[1;32m     97\u001b[0m                 \u001b[0;32mif\u001b[0m \u001b[0mamsgrad\u001b[0m\u001b[0;34m:\u001b[0m\u001b[0;34m\u001b[0m\u001b[0;34m\u001b[0m\u001b[0m\n",
      "\u001b[0;31mKeyboardInterrupt\u001b[0m: "
     ]
    }
   ],
   "source": [
    "# Train\n",
    "min_val_loss = np.inf\n",
    "#val_threat_score_hist = []\n",
    "val_loss_hist = []\n",
    "\n",
    "for epoch in range(30):\n",
    "    \n",
    "    # Train for one epoch\n",
    "    train(trainloader, model, optimizer, None, epoch, sixinput=False)\n",
    "    \n",
    "    # Evaluate at the end of the epoch\n",
    "    print(\"Evaluating after Epoch {}:\".format(epoch))\n",
    "    #val_loss, val_threat_score = evaluate(valloader, model, loss, sixinput=False)\n",
    "    #print(\"Val loss is {:.6f}, threat score is {:.6f}\".format(val_loss, val_threat_score))\n",
    "    model.training= False\n",
    "    val_loss = evaluate(valloader, model, sixinput=False)\n",
    "    model.training=True\n",
    "    print(\"Val loss is {}\".format(val_loss.cpu().detach()))\n",
    "    \n",
    "    # If this is the best model so far, save it\n",
    "    if val_loss < min_val_loss:\n",
    "        torch.save({\n",
    "            'epoch': epoch,\n",
    "            'config': config,\n",
    "            'model_state_dict': model.state_dict(),\n",
    "            'optimizer_state_dict': optimizer.state_dict(),\n",
    "            'val_loss': val_loss,\n",
    "            }, 'models/best_bounding_box.pt')\n",
    "    \n",
    "    # Save loss \n",
    "    val_loss_hist.append(val_loss)\n",
    "    #val_threat_score_hist.append(val_threat_score)\n",
    "\n",
    "checkpoint = torch.load('models/best_bounding_box.pt')\n",
    "checkpoint['val_loss_hist'] = val_loss_hist\n",
    "#checkpoint['val_threat_score_hist'] = val_threat_score_hist\n",
    "torch.save(checkpoint, 'models/best_bounding_box.pt')"
   ]
  },
  {
   "cell_type": "code",
   "execution_count": 94,
   "metadata": {},
   "outputs": [
    {
     "data": {
      "text/plain": [
       "tensor(312.79037, device='cuda:0', grad_fn=<MaxBackward1>)"
      ]
     },
     "execution_count": 94,
     "metadata": {},
     "output_type": "execute_result"
    }
   ],
   "source": [
    "sample, target, road_image = iter(valloader).next()\n",
    "model.eval()\n",
    "sample = torch.stack(sample).to(device)\n",
    "\n",
    "# Make input the correct shape\n",
    "batch_size = sample.shape[0]\n",
    "sample = sample.view(batch_size, -1, 256, 306) # torch.Size([3, 18, 256, 306])\n",
    "\n",
    "# Run through model\n",
    "optimizer.zero_grad()\n",
    "output = model(sample)\n",
    "output[0][1, :, 0].max()"
   ]
  },
  {
   "cell_type": "code",
   "execution_count": 95,
   "metadata": {},
   "outputs": [],
   "source": [
    "# Apply non-max supression\n",
    "#Returns list of length batch_size, with each list element being a tensor of size nx6 (x1, y1, x2, y2, conf, cls) \n",
    "conf_thres = 0.07\n",
    "iou_thres = 0.6\n",
    "output = non_max_suppression(output[0], conf_thres, iou_thres,\n",
    "                                   multi_label=False, classes=None, )\n",
    "# Rescale from 256x306 to 80x80 (from -40 to 40)\n",
    "for i, preds in enumerate(output):\n",
    "    output[i][:, 0] = preds[:, 0] * 80/256 - 40\n",
    "    output[i][:, 1] = preds[:, 1] * 80/306 - 40\n",
    "    output[i][:, 2] = preds[:, 2] * 80/256 - 40\n",
    "    output[i][:, 3] = preds[:, 3] * 80/306 - 40"
   ]
  },
  {
   "cell_type": "code",
   "execution_count": 96,
   "metadata": {},
   "outputs": [],
   "source": [
    "# Store bounding boxes in the correct format\n",
    "bounding_boxes = torch.zeros((output[0].shape[0], 2, 4))\n",
    "#len(output[0])\n",
    "if output[0] != None:\n",
    "    for i in range(output[0].shape[0]):\n",
    "        # Get four corners\n",
    "        bounding_boxes[i, :, :] = torch.tensor([[output[0][i][0],  output[0][i][2], output[0][i][2],  output[0][i][0]],\n",
    "                                                [output[0][i][1],  output[0][i][1], output[0][i][3], output[0][i][3]]])\n",
    "# Truncate corners that are out of range\n",
    "bounding_boxes[bounding_boxes>40] = 40\n",
    "bounding_boxes[bounding_boxes<-40] = -40"
   ]
  },
  {
   "cell_type": "code",
   "execution_count": 97,
   "metadata": {},
   "outputs": [
    {
     "data": {
      "image/png": "[encoded data removed]",
      "text/plain": [
       "<Figure size 432x288 with 1 Axes>"
      ]
     },
     "metadata": {
      "needs_background": "light"
     },
     "output_type": "display_data"
    }
   ],
   "source": [
    "# Plot original\n",
    "fig, ax = plt.subplots()\n",
    "color_list = ['b', 'g', 'orange', 'c', 'm', 'y', 'k', 'w', 'r']\n",
    "ax.imshow(road_image[0], cmap ='binary');\n",
    "# The ego car position\n",
    "ax.plot(400, 400, 'x', color=\"red\")\n",
    "for i, bb in enumerate(target[0]['bounding_box']):\n",
    "    # You can check the implementation of the draw box to understand how it works \n",
    "    draw_box(ax, bb, color=color_list[target[0]['category'][i]])    "
   ]
  },
  {
   "cell_type": "code",
   "execution_count": 101,
   "metadata": {},
   "outputs": [
    {
     "data": {
      "image/png": "[encoded data removed]",
      "text/plain": [
       "<Figure size 432x288 with 1 Axes>"
      ]
     },
     "metadata": {
      "needs_background": "light"
     },
     "output_type": "display_data"
    }
   ],
   "source": [
    "# Plot prediction\n",
    "fig, ax = plt.subplots()\n",
    "color_list = ['b', 'g', 'orange', 'c', 'm', 'y', 'k', 'w', 'r']\n",
    "ax.imshow(road_image[0], cmap ='binary');\n",
    "# The ego car position\n",
    "ax.plot(400, 400, 'x', color=\"red\")\n",
    "for i, bb in enumerate(bounding_boxes):\n",
    "    # You can check the implementation of the draw box to understand how it works \n",
    "    draw_box(ax, bb, color=color_list[target[0]['category'][i]])    "
   ]
  },
  {
   "cell_type": "code",
   "execution_count": 77,
   "metadata": {},
   "outputs": [
    {
     "data": {
      "text/plain": [
       "torch.Size([2, 6])"
      ]
     },
     "execution_count": 77,
     "metadata": {},
     "output_type": "execute_result"
    }
   ],
   "source": [
    "output[1].shape"
   ]
  },
  {
   "cell_type": "code",
   "execution_count": null,
   "metadata": {},
   "outputs": [],
   "source": [
    "# Load saved model\n",
    "checkpoint = torch.load('models/best_road_mapper_lr10e-5_sixinput.pt')\n",
    "model = get_seg_model_sixinput(checkpoint['config'])\n",
    "model.load_state_dict(checkpoint['model_state_dict'])\n",
    "model = model.to(device)"
   ]
  },
  {
   "cell_type": "code",
   "execution_count": null,
   "metadata": {},
   "outputs": [],
   "source": [
    "# Plot loss vs threat score during training\n",
    "matplotlib.rcParams['figure.figsize'] = [8, 4]\n",
    "plt.plot(list(range(len(checkpoint['val_loss_hist']))), checkpoint['val_loss_hist'], label=\"Val Loss\", linewidth=3)\n",
    "plt.plot(list(range(len(checkpoint['val_loss_hist']))), checkpoint['val_threat_score_hist'], label=\"Val Threat Score\", linewidth=3)\n",
    "plt.legend()\n",
    "plt.xlabel('Epoch')"
   ]
  },
  {
   "cell_type": "code",
   "execution_count": null,
   "metadata": {
    "scrolled": true
   },
   "outputs": [],
   "source": [
    "matplotlib.rcParams['figure.figsize'] = [2, 2]\n",
    "\n",
    "# Visualize results\n",
    "sample, target, road_image = iter(valloader).next()\n",
    "image = sample[0][None, :, :, :]\n",
    "#plt.imshow(image.numpy().transpose(1, 2, 0))\n",
    "#plt.axis('off')\n",
    "# True road image\n",
    "fig, ax = plt.subplots()\n",
    "ax.imshow(road_image[0], cmap='binary')"
   ]
  },
  {
   "cell_type": "code",
   "execution_count": null,
   "metadata": {},
   "outputs": [],
   "source": [
    "# Predicted road image\n",
    "output = model(image.to(device))\n",
    "fig, ax = plt.subplots()\n",
    "ax.imshow(output.cpu().detach().numpy().squeeze(0), cmap='binary')\n",
    "plt.show()"
   ]
  },
  {
   "cell_type": "code",
   "execution_count": null,
   "metadata": {},
   "outputs": [],
   "source": [
    "# Predicted road image, with threshold\n",
    "output_binary = output[0, :, :] > 0.5\n",
    "fig, ax = plt.subplots()\n",
    "ax.imshow(output_binary.cpu().detach().numpy(), cmap='binary')"
   ]
  },
  {
   "cell_type": "code",
   "execution_count": null,
   "metadata": {},
   "outputs": [],
   "source": []
  },
  {
   "cell_type": "code",
   "execution_count": null,
   "metadata": {},
   "outputs": [],
   "source": []
  },
  {
   "cell_type": "code",
   "execution_count": null,
   "metadata": {},
   "outputs": [],
   "source": []
  }
 ],
 "metadata": {
  "kernelspec": {
   "display_name": "Python 3",
   "language": "python",
   "name": "python3"
  },
  "language_info": {
   "codemirror_mode": {
    "name": "ipython",
    "version": 3
   },
   "file_extension": ".py",
   "mimetype": "text/x-python",
   "name": "python",
   "nbconvert_exporter": "python",
   "pygments_lexer": "ipython3",
   "version": "3.6.9"
  }
 },
 "nbformat": 4,
 "nbformat_minor": 4
}
