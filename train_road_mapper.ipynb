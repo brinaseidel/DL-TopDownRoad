{
 "cells": [
  {
   "cell_type": "markdown",
   "metadata": {},
   "source": [
    "# Train RoadMapper model \n",
    "\n",
    "This notebook trains a model to take in six images from the car's point of view, and output a bird's eye view map of the road.\n",
    "\n",
    "It currently uses a modified version of [HRNet](https://github.com/HRNet/HRNet-Semantic-Segmentation) (Wang et. al. 2020)."
   ]
  },
  {
   "cell_type": "code",
   "execution_count": 1,
   "metadata": {},
   "outputs": [],
   "source": [
    "import os\n",
    "import random\n",
    "\n",
    "import numpy as np\n",
    "import pandas as pd\n",
    "\n",
    "import matplotlib\n",
    "import matplotlib.pyplot as plt\n",
    "matplotlib.rcParams['figure.figsize'] = [3, 3]\n",
    "matplotlib.rcParams['figure.dpi'] = 200\n",
    "\n",
    "import torch\n",
    "import torch.nn as nn\n",
    "import torch.nn.functional as F\n",
    "import torchvision\n",
    "\n",
    "from data_helper import UnlabeledDataset, LabeledDataset\n",
    "from helper import collate_fn, draw_box\n",
    "\n",
    "from hrnet import get_seg_model"
   ]
  },
  {
   "cell_type": "code",
   "execution_count": 2,
   "metadata": {},
   "outputs": [
    {
     "data": {
      "text/plain": [
       "device(type='cuda', index=0)"
      ]
     },
     "execution_count": 2,
     "metadata": {},
     "output_type": "execute_result"
    }
   ],
   "source": [
    "device = torch.device(\"cuda:0\" if torch.cuda.is_available() else \"cpu\")\n",
    "torch.cuda.empty_cache()\n",
    "device"
   ]
  },
  {
   "cell_type": "code",
   "execution_count": 3,
   "metadata": {},
   "outputs": [],
   "source": [
    "random.seed(0)\n",
    "np.random.seed(0)\n",
    "torch.manual_seed(0);"
   ]
  },
  {
   "cell_type": "code",
   "execution_count": 4,
   "metadata": {},
   "outputs": [],
   "source": [
    "# All the images are saved in image_folder\n",
    "# All the labels are saved in the annotation_csv file\n",
    "image_folder = '/scratch/bs3743/DL-TopDownRoad/data'\n",
    "annotation_csv = '/scratch/bs3743/DL-TopDownRoad/data/annotation.csv'"
   ]
  },
  {
   "cell_type": "markdown",
   "metadata": {},
   "source": [
    "### Read in the labeled training data, and split into a training and validation set"
   ]
  },
  {
   "cell_type": "code",
   "execution_count": 5,
   "metadata": {},
   "outputs": [],
   "source": [
    "# The scenes from 106 - 133 are labeled\n",
    "labeled_scene_index = np.arange(106, 134)"
   ]
  },
  {
   "cell_type": "code",
   "execution_count": 6,
   "metadata": {},
   "outputs": [
    {
     "name": "stdout",
     "output_type": "stream",
     "text": [
      "Train scenes: 21 \n",
      "Val scenes: 7\n"
     ]
    }
   ],
   "source": [
    "# Split 75/25 into training and validation\n",
    "random.shuffle(labeled_scene_index)\n",
    "labeled_scene_index_train = labeled_scene_index[0:21]\n",
    "labeled_scene_index_val = labeled_scene_index[21:28]\n",
    "print(\"Train scenes: {} \\nVal scenes: {}\".format(len(labeled_scene_index_train), len(labeled_scene_index_val)))"
   ]
  },
  {
   "cell_type": "code",
   "execution_count": 7,
   "metadata": {},
   "outputs": [],
   "source": [
    "transform = torchvision.transforms.ToTensor()"
   ]
  },
  {
   "cell_type": "code",
   "execution_count": 8,
   "metadata": {},
   "outputs": [],
   "source": [
    "# The labeled dataset can only be retrieved by sample.\n",
    "# And all the returned data are tuple of tensors, since bounding boxes may have different size\n",
    "labeled_trainset = LabeledDataset(image_folder=image_folder,\n",
    "                                  annotation_file=annotation_csv,\n",
    "                                  scene_index=labeled_scene_index_train,\n",
    "                                  transform=transform,\n",
    "                                  extra_info=False\n",
    "                                 )\n",
    "trainloader = torch.utils.data.DataLoader(labeled_trainset, batch_size=5, shuffle=True, num_workers=2, collate_fn=collate_fn)"
   ]
  },
  {
   "cell_type": "code",
   "execution_count": 9,
   "metadata": {},
   "outputs": [],
   "source": [
    "# The labeled dataset can only be retrieved by sample.\n",
    "# And all the returned data are tuple of tensors, since bounding boxes may have different size\n",
    "labeled_valset = LabeledDataset(image_folder=image_folder,\n",
    "                                  annotation_file=annotation_csv,\n",
    "                                  scene_index=labeled_scene_index_val,\n",
    "                                  transform=transform,\n",
    "                                  extra_info=False\n",
    "                                 )\n",
    "valloader = torch.utils.data.DataLoader(labeled_valset, batch_size=2, shuffle=True, num_workers=2, collate_fn=collate_fn)"
   ]
  },
  {
   "cell_type": "code",
   "execution_count": 10,
   "metadata": {},
   "outputs": [
    {
     "name": "stdout",
     "output_type": "stream",
     "text": [
      "torch.Size([5, 6, 3, 256, 306])\n"
     ]
    }
   ],
   "source": [
    "sample, target, road_image = iter(trainloader).next()\n",
    "print(torch.stack(sample).shape)\n",
    "#print(torch.stack(sample)[:, 1, :, :].shape)"
   ]
  },
  {
   "cell_type": "markdown",
   "metadata": {},
   "source": [
    "### Train the model"
   ]
  },
  {
   "cell_type": "code",
   "execution_count": 11,
   "metadata": {},
   "outputs": [],
   "source": [
    "from yacs.config import CfgNode as CN\n",
    "\n",
    "\n",
    "_C = CN()\n",
    "\n",
    "_C.OUTPUT_DIR = ''\n",
    "_C.LOG_DIR = ''\n",
    "_C.GPUS = (0,)\n",
    "_C.WORKERS = 4\n",
    "_C.PRINT_FREQ = 20\n",
    "_C.AUTO_RESUME = False\n",
    "_C.PIN_MEMORY = True\n",
    "_C.RANK = 0\n",
    "\n",
    "# Cudnn related params\n",
    "_C.CUDNN = CN()\n",
    "_C.CUDNN.BENCHMARK = True\n",
    "_C.CUDNN.DETERMINISTIC = False\n",
    "_C.CUDNN.ENABLED = True\n",
    "\n",
    "# common params for NETWORK\n",
    "_C.MODEL = CN()\n",
    "_C.MODEL.NAME = 'seg_hrnet'\n",
    "_C.MODEL.PRETRAINED = ''\n",
    "_C.MODEL.EXTRA = CN(new_allowed=True)\n",
    "\n",
    "_C.LOSS = CN()\n",
    "_C.LOSS.USE_OHEM = False\n",
    "_C.LOSS.OHEMTHRES = 0.9\n",
    "_C.LOSS.OHEMKEEP = 100000\n",
    "_C.LOSS.CLASS_BALANCE = True\n",
    "\n",
    "# DATASET related params\n",
    "_C.DATASET = CN()\n",
    "_C.DATASET.ROOT = ''\n",
    "_C.DATASET.NUM_CLASSES = 1\n",
    "_C.DATASET.EXTRA_TRAIN_SET = ''\n",
    "\n",
    "# training\n",
    "_C.TRAIN = CN()\n",
    "\n",
    "_C.TRAIN.IMAGE_SIZE = [1024, 512]  # width * height\n",
    "_C.TRAIN.BASE_SIZE = 2048\n",
    "_C.TRAIN.DOWNSAMPLERATE = 1\n",
    "_C.TRAIN.FLIP = True\n",
    "_C.TRAIN.MULTI_SCALE = True\n",
    "_C.TRAIN.SCALE_FACTOR = 16\n",
    "\n",
    "_C.TRAIN.LR_FACTOR = 0.1\n",
    "_C.TRAIN.LR_STEP = [90, 110]\n",
    "_C.TRAIN.LR = 0.001\n",
    "_C.TRAIN.EXTRA_LR = 0.001\n",
    "\n",
    "_C.TRAIN.OPTIMIZER = 'sgd'\n",
    "_C.TRAIN.MOMENTUM = 0.9\n",
    "_C.TRAIN.WD = 0.0001\n",
    "_C.TRAIN.NESTEROV = False\n",
    "_C.TRAIN.IGNORE_LABEL = -1\n",
    "\n",
    "_C.TRAIN.BEGIN_EPOCH = 0\n",
    "_C.TRAIN.END_EPOCH = 484\n",
    "_C.TRAIN.EXTRA_EPOCH = 0\n",
    "\n",
    "_C.TRAIN.RESUME = False\n",
    "\n",
    "_C.TRAIN.BATCH_SIZE_PER_GPU = 32\n",
    "_C.TRAIN.SHUFFLE = True\n",
    "# only using some training samples\n",
    "_C.TRAIN.NUM_SAMPLES = 0\n",
    "\n",
    "# testing\n",
    "_C.TEST = CN()\n",
    "\n",
    "_C.TEST.IMAGE_SIZE = [2048, 1024]  # width * height\n",
    "_C.TEST.BASE_SIZE = 2048\n",
    "\n",
    "_C.TEST.BATCH_SIZE_PER_GPU = 32\n",
    "# only testing some samples\n",
    "_C.TEST.NUM_SAMPLES = 0\n",
    "\n",
    "_C.TEST.MODEL_FILE = ''\n",
    "_C.TEST.FLIP_TEST = False\n",
    "_C.TEST.MULTI_SCALE = False\n",
    "_C.TEST.SCALE_LIST = [1]\n",
    "\n",
    "# debug\n",
    "_C.DEBUG = CN()\n",
    "_C.DEBUG.DEBUG = False\n",
    "_C.DEBUG.SAVE_BATCH_IMAGES_GT = False\n",
    "_C.DEBUG.SAVE_BATCH_IMAGES_PRED = False\n",
    "_C.DEBUG.SAVE_HEATMAPS_GT = False\n",
    "_C.DEBUG.SAVE_HEATMAPS_PRED = False\n",
    "_C.defrost()\n",
    "_C.merge_from_file(\"hrnet_config.yaml\")\n",
    "_C.freeze()\n",
    "    \n",
    "config = _C"
   ]
  },
  {
   "cell_type": "code",
   "execution_count": 12,
   "metadata": {},
   "outputs": [],
   "source": [
    "# Initialize model\n",
    "model = get_seg_model(config)\n",
    "model = model.to(device)"
   ]
  },
  {
   "cell_type": "code",
   "execution_count": 13,
   "metadata": {},
   "outputs": [],
   "source": [
    "# Intialize loss\n",
    "loss = nn.BCELoss()"
   ]
  },
  {
   "cell_type": "code",
   "execution_count": 14,
   "metadata": {},
   "outputs": [],
   "source": [
    "# Intialize optimizer\n",
    "optimizer = torch.optim.SGD([{'params':\n",
    "                                  filter(lambda p: p.requires_grad,\n",
    "                                         model.parameters()),\n",
    "                                  'lr': config.TRAIN.LR}],\n",
    "                                lr=config.TRAIN.LR,\n",
    "                                momentum=config.TRAIN.MOMENTUM,\n",
    "                                weight_decay=config.TRAIN.WD,\n",
    "                                nesterov=config.TRAIN.NESTEROV,\n",
    "                                )"
   ]
  },
  {
   "cell_type": "code",
   "execution_count": 15,
   "metadata": {},
   "outputs": [],
   "source": [
    "# Create training function\n",
    "def train(train_loader, val_loader, model, optimizer, criterion, epoch):\n",
    "    \n",
    "    model.train()\n",
    "\n",
    "    for batch_idx, (sample, target, road_image) in enumerate(train_loader):\n",
    "        \n",
    "        # Send to device\n",
    "        sample, road_image = torch.stack(sample).to(device),  torch.stack(road_image).float().to(device) # takes only one image for now\n",
    "        batch_size = sample.shape[0]\n",
    "        sample = sample.view(batch_size, -1, 256, 306) # torch.Size([3, 18, 256, 306])\n",
    "        # for now, take only one image\n",
    "        #sample = sample[:, 1, :, :]\n",
    "        \n",
    "        # Run through model\n",
    "        optimizer.zero_grad()\n",
    "        output = model(sample)\n",
    "        \n",
    "        # Calculate loss and take step\n",
    "        loss = criterion(output, road_image)\n",
    "        loss.backward()\n",
    "        optimizer.step()\n",
    "        \n",
    "        # Log progress\n",
    "        if batch_idx % 100 == 0:\n",
    "            print('\\tTrain Epoch: {} [{}/{} ({:.0f}%)]\\tLoss: {:.6f}'.format(\n",
    "                epoch, batch_idx * len(sample), len(train_loader.dataset),\n",
    "                100. * batch_idx / len(train_loader), loss.item()))\n",
    "            \n",
    "    # Evaluate at the end of the epoch\n",
    "    Print(\"Evaluating after Epoch {}:\".format(epoch))\n",
    "    val_loss, val_threat_score = evalute(val_loader, model, criterion)\n",
    "    print(\"Val loss is {:.6f}, threat score is {:.6f}\".format(val_loss, val_threat_score))\n",
    "    \n",
    "    return\n"
   ]
  },
  {
   "cell_type": "code",
   "execution_count": 16,
   "metadata": {},
   "outputs": [],
   "source": [
    "# Create an evaluation function\n",
    "def evalute(val_loader, model, criterion):\n",
    "    model.eval()\n",
    "    losses = []\n",
    "    tp, fp, fn = 0, 0, 0\n",
    "    for batch_idx, (sample, target, road_image) in enumerate(val_loader):\n",
    "        # send to device\n",
    "        sample, road_image = torch.stack(sample).to(device), torch.stack(road_image).float().to(device) # takes only one image for now\n",
    "        batch_size = sample.shape[0]\n",
    "        sample = sample.view(batch_size, -1, 256, 306) # torch.Size([3, 18, 256, 306])\n",
    "        \n",
    "        with torch.no_grad():\n",
    "            output = model(sample)\n",
    "            \n",
    "        # Calculate loss\n",
    "        loss = criterion(output, road_image)\n",
    "        losses.append(loss)\n",
    "        \n",
    "        # Calculate TP, FP, FN for threat score\n",
    "        output_class = (output > 0.5).float()\n",
    "        tp = tp + torch.sum(torch.mul(output_class, road_image))\n",
    "        fp = fp + torch.sum(torch.mul(torch.eq(output_class, 1), torch.eq(road_image, 0)))\n",
    "        fn = fn + torch.sum(torch.mul(torch.eq(output_class, 0), torch.eq(road_image, 1)))\n",
    "    threat_score = tp/(tp+fp+fn)\n",
    "    return sum(losses)/len(losses), threat_score\n"
   ]
  },
  {
   "cell_type": "code",
   "execution_count": null,
   "metadata": {},
   "outputs": [
    {
     "name": "stderr",
     "output_type": "stream",
     "text": [
      "/home/bs3743/.conda/envs/pytorch/lib/python3.7/site-packages/torch/nn/functional.py:2506: UserWarning: Default upsampling behavior when mode=bilinear is changed to align_corners=False since 0.4.0. Please specify align_corners=True if the old behavior is desired. See the documentation of nn.Upsample for details.\n",
      "  \"See the documentation of nn.Upsample for details.\".format(mode))\n",
      "/home/bs3743/.conda/envs/pytorch/lib/python3.7/site-packages/torch/nn/functional.py:2416: UserWarning: nn.functional.upsample is deprecated. Use nn.functional.interpolate instead.\n",
      "  warnings.warn(\"nn.functional.upsample is deprecated. Use nn.functional.interpolate instead.\")\n"
     ]
    },
    {
     "name": "stdout",
     "output_type": "stream",
     "text": [
      "\tTrain Epoch: 0 [0/2646 (0%)]\tLoss: 0.691431\n"
     ]
    }
   ],
   "source": [
    "# Train\n",
    "for epoch in range(10):\n",
    "    train(trainloader, valloader, model, optimizer, loss, epoch)"
   ]
  },
  {
   "cell_type": "code",
   "execution_count": null,
   "metadata": {},
   "outputs": [],
   "source": [
    " evalute(valloader, model, loss)"
   ]
  },
  {
   "cell_type": "code",
   "execution_count": null,
   "metadata": {
    "scrolled": true
   },
   "outputs": [],
   "source": [
    "matplotlib.rcParams['figure.figsize'] = [2, 2]\n",
    "\n",
    "# Visualize results\n",
    "sample, target, road_image = iter(trainloader).next()\n",
    "image = sample[0].view(-1, 256, 306)\n",
    "#plt.imshow(image.numpy().transpose(1, 2, 0))\n",
    "#plt.axis('off')\n",
    "fig, ax = plt.subplots()\n",
    "ax.imshow(road_image[0], cmap='binary')"
   ]
  },
  {
   "cell_type": "code",
   "execution_count": null,
   "metadata": {},
   "outputs": [],
   "source": [
    "matplotlib.rcParams['figure.figsize'] = [2, 2]\n",
    "\n",
    "output = model(image.unsqueeze(0).to(device))\n",
    "fig, ax = plt.subplots()\n",
    "ax.imshow(output.cpu().detach().numpy().squeeze(0), cmap='binary')"
   ]
  },
  {
   "cell_type": "code",
   "execution_count": null,
   "metadata": {},
   "outputs": [],
   "source": []
  }
 ],
 "metadata": {
  "kernelspec": {
   "display_name": "Python 3",
   "language": "python",
   "name": "python3"
  },
  "language_info": {
   "codemirror_mode": {
    "name": "ipython",
    "version": 3
   },
   "file_extension": ".py",
   "mimetype": "text/x-python",
   "name": "python",
   "nbconvert_exporter": "python",
   "pygments_lexer": "ipython3",
   "version": "3.7.7"
  }
 },
 "nbformat": 4,
 "nbformat_minor": 4
}
