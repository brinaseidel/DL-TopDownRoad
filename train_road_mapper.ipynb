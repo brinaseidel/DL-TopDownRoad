{
 "cells": [
  {
   "cell_type": "markdown",
   "metadata": {},
   "source": [
    "# Train RoadMapper model \n",
    "\n",
    "This notebook trains a model to take in six images from the car's point of view, and output a bird's eye view map of the road.\n",
    "\n",
    "It currently uses a modified version of [HRNet](https://github.com/HRNet/HRNet-Semantic-Segmentation) (Wang et. al. 2020)."
   ]
  },
  {
   "cell_type": "code",
   "execution_count": 1,
   "metadata": {},
   "outputs": [],
   "source": [
    "import os\n",
    "import random\n",
    "\n",
    "import numpy as np\n",
    "import pandas as pd\n",
    "\n",
    "import matplotlib\n",
    "import matplotlib.pyplot as plt\n",
    "matplotlib.rcParams['figure.figsize'] = [3, 3]\n",
    "matplotlib.rcParams['figure.dpi'] = 200\n",
    "\n",
    "import torch\n",
    "import torch.nn as nn\n",
    "import torch.nn.functional as F\n",
    "import torchvision\n",
    "\n",
    "from data_helper import UnlabeledDataset, LabeledDataset\n",
    "from helper import collate_fn, draw_box\n",
    "\n",
    "from hrnet import get_seg_model\n",
    "\n",
    "#!pip install yacs\n",
    "from yacs.config import CfgNode as CN"
   ]
  },
  {
   "cell_type": "code",
   "execution_count": 2,
   "metadata": {},
   "outputs": [
    {
     "data": {
      "text/plain": [
       "device(type='cuda', index=0)"
      ]
     },
     "execution_count": 2,
     "metadata": {},
     "output_type": "execute_result"
    }
   ],
   "source": [
    "device = torch.device(\"cuda:0\" if torch.cuda.is_available() else \"cpu\")\n",
    "torch.cuda.empty_cache()\n",
    "device"
   ]
  },
  {
   "cell_type": "code",
   "execution_count": 3,
   "metadata": {},
   "outputs": [],
   "source": [
    "random.seed(0)\n",
    "np.random.seed(0)\n",
    "torch.manual_seed(0);"
   ]
  },
  {
   "cell_type": "code",
   "execution_count": 4,
   "metadata": {},
   "outputs": [],
   "source": [
    "# All the images are saved in image_folder\n",
    "# All the labels are saved in the annotation_csv file\n",
    "image_folder = '/scratch/bs3743/DL-TopDownRoad/data'\n",
    "annotation_csv = '/scratch/bs3743/DL-TopDownRoad/data/annotation.csv'"
   ]
  },
  {
   "cell_type": "markdown",
   "metadata": {},
   "source": [
    "### Read in the labeled training data, and split into a training and validation set"
   ]
  },
  {
   "cell_type": "code",
   "execution_count": 5,
   "metadata": {},
   "outputs": [],
   "source": [
    "# The scenes from 106 - 133 are labeled\n",
    "labeled_scene_index = np.arange(106, 134)"
   ]
  },
  {
   "cell_type": "code",
   "execution_count": 6,
   "metadata": {},
   "outputs": [
    {
     "name": "stdout",
     "output_type": "stream",
     "text": [
      "Train scenes: 21 \n",
      "Val scenes: 7\n"
     ]
    }
   ],
   "source": [
    "# Split 75/25 into training and validation\n",
    "random.shuffle(labeled_scene_index)\n",
    "labeled_scene_index_train = labeled_scene_index[0:21]\n",
    "labeled_scene_index_val = labeled_scene_index[21:28]\n",
    "print(\"Train scenes: {} \\nVal scenes: {}\".format(len(labeled_scene_index_train), len(labeled_scene_index_val)))"
   ]
  },
  {
   "cell_type": "code",
   "execution_count": 7,
   "metadata": {},
   "outputs": [],
   "source": [
    "transform = torchvision.transforms.ToTensor()"
   ]
  },
  {
   "cell_type": "code",
   "execution_count": 8,
   "metadata": {},
   "outputs": [],
   "source": [
    "# The labeled dataset can only be retrieved by sample.\n",
    "# And all the returned data are tuple of tensors, since bounding boxes may have different size\n",
    "labeled_trainset = LabeledDataset(image_folder=image_folder,\n",
    "                                  annotation_file=annotation_csv,\n",
    "                                  scene_index=labeled_scene_index_train,\n",
    "                                  transform=transform,\n",
    "                                  extra_info=False\n",
    "                                 )\n",
    "trainloader = torch.utils.data.DataLoader(labeled_trainset, batch_size=5, shuffle=True, num_workers=2, collate_fn=collate_fn)"
   ]
  },
  {
   "cell_type": "code",
   "execution_count": 9,
   "metadata": {},
   "outputs": [],
   "source": [
    "# The labeled dataset can only be retrieved by sample.\n",
    "# And all the returned data are tuple of tensors, since bounding boxes may have different size\n",
    "labeled_valset = LabeledDataset(image_folder=image_folder,\n",
    "                                  annotation_file=annotation_csv,\n",
    "                                  scene_index=labeled_scene_index_val,\n",
    "                                  transform=transform,\n",
    "                                  extra_info=False\n",
    "                                 )\n",
    "valloader = torch.utils.data.DataLoader(labeled_valset, batch_size=2, shuffle=True, num_workers=2, collate_fn=collate_fn)"
   ]
  },
  {
   "cell_type": "code",
   "execution_count": 10,
   "metadata": {},
   "outputs": [
    {
     "name": "stdout",
     "output_type": "stream",
     "text": [
      "torch.Size([5, 6, 3, 256, 306])\n"
     ]
    }
   ],
   "source": [
    "sample, target, road_image = iter(trainloader).next()\n",
    "print(torch.stack(sample).shape)\n",
    "#print(torch.stack(sample)[:, 1, :, :].shape)"
   ]
  },
  {
   "cell_type": "markdown",
   "metadata": {},
   "source": [
    "### Train the model"
   ]
  },
  {
   "cell_type": "code",
   "execution_count": 11,
   "metadata": {},
   "outputs": [],
   "source": [
    "# Create model config\n",
    "# Note: I need to clean this up and move the whole config to a seperate file with the rest of it \n",
    "\n",
    "_C = CN()\n",
    "\n",
    "_C.OUTPUT_DIR = ''\n",
    "_C.LOG_DIR = ''\n",
    "_C.GPUS = (0,)\n",
    "_C.WORKERS = 4\n",
    "_C.PRINT_FREQ = 20\n",
    "_C.AUTO_RESUME = False\n",
    "_C.PIN_MEMORY = True\n",
    "_C.RANK = 0\n",
    "\n",
    "# Cudnn related params\n",
    "_C.CUDNN = CN()\n",
    "_C.CUDNN.BENCHMARK = True\n",
    "_C.CUDNN.DETERMINISTIC = False\n",
    "_C.CUDNN.ENABLED = True\n",
    "\n",
    "# common params for NETWORK\n",
    "_C.MODEL = CN()\n",
    "_C.MODEL.NAME = 'seg_hrnet'\n",
    "_C.MODEL.PRETRAINED = ''\n",
    "_C.MODEL.EXTRA = CN(new_allowed=True)\n",
    "\n",
    "_C.LOSS = CN()\n",
    "_C.LOSS.USE_OHEM = False\n",
    "_C.LOSS.OHEMTHRES = 0.9\n",
    "_C.LOSS.OHEMKEEP = 100000\n",
    "_C.LOSS.CLASS_BALANCE = True\n",
    "\n",
    "# DATASET related params\n",
    "_C.DATASET = CN()\n",
    "_C.DATASET.ROOT = ''\n",
    "_C.DATASET.NUM_CLASSES = 1\n",
    "_C.DATASET.EXTRA_TRAIN_SET = ''\n",
    "\n",
    "# training\n",
    "_C.TRAIN = CN()\n",
    "\n",
    "_C.TRAIN.IMAGE_SIZE = [1024, 512]  # width * height\n",
    "_C.TRAIN.BASE_SIZE = 2048\n",
    "_C.TRAIN.DOWNSAMPLERATE = 1\n",
    "_C.TRAIN.FLIP = True\n",
    "_C.TRAIN.MULTI_SCALE = True\n",
    "_C.TRAIN.SCALE_FACTOR = 16\n",
    "\n",
    "_C.TRAIN.LR_FACTOR = 0.1\n",
    "_C.TRAIN.LR_STEP = [90, 110]\n",
    "_C.TRAIN.LR = 0.0001\n",
    "_C.TRAIN.EXTRA_LR = 0.001\n",
    "\n",
    "_C.TRAIN.OPTIMIZER = 'sgd'\n",
    "_C.TRAIN.MOMENTUM = 0.9\n",
    "_C.TRAIN.WD = 0.0001\n",
    "_C.TRAIN.NESTEROV = False\n",
    "_C.TRAIN.IGNORE_LABEL = -1\n",
    "\n",
    "_C.TRAIN.BEGIN_EPOCH = 0\n",
    "_C.TRAIN.END_EPOCH = 484\n",
    "_C.TRAIN.EXTRA_EPOCH = 0\n",
    "\n",
    "_C.TRAIN.RESUME = False\n",
    "\n",
    "_C.TRAIN.BATCH_SIZE_PER_GPU = 32\n",
    "_C.TRAIN.SHUFFLE = True\n",
    "# only using some training samples\n",
    "_C.TRAIN.NUM_SAMPLES = 0\n",
    "\n",
    "# testing\n",
    "_C.TEST = CN()\n",
    "\n",
    "_C.TEST.IMAGE_SIZE = [2048, 1024]  # width * height\n",
    "_C.TEST.BASE_SIZE = 2048\n",
    "\n",
    "_C.TEST.BATCH_SIZE_PER_GPU = 32\n",
    "# only testing some samples\n",
    "_C.TEST.NUM_SAMPLES = 0\n",
    "\n",
    "_C.TEST.MODEL_FILE = ''\n",
    "_C.TEST.FLIP_TEST = False\n",
    "_C.TEST.MULTI_SCALE = False\n",
    "_C.TEST.SCALE_LIST = [1]\n",
    "\n",
    "# debug\n",
    "_C.DEBUG = CN()\n",
    "_C.DEBUG.DEBUG = False\n",
    "_C.DEBUG.SAVE_BATCH_IMAGES_GT = False\n",
    "_C.DEBUG.SAVE_BATCH_IMAGES_PRED = False\n",
    "_C.DEBUG.SAVE_HEATMAPS_GT = False\n",
    "_C.DEBUG.SAVE_HEATMAPS_PRED = False\n",
    "_C.defrost()\n",
    "_C.merge_from_file(\"hrnet_config.yaml\")\n",
    "_C.freeze()\n",
    "    \n",
    "config = _C"
   ]
  },
  {
   "cell_type": "code",
   "execution_count": 12,
   "metadata": {},
   "outputs": [],
   "source": [
    "# Initialize model\n",
    "model = get_seg_model(config)\n",
    "model = model.to(device)"
   ]
  },
  {
   "cell_type": "code",
   "execution_count": 13,
   "metadata": {},
   "outputs": [],
   "source": [
    "# Intialize loss\n",
    "loss = nn.BCELoss()"
   ]
  },
  {
   "cell_type": "code",
   "execution_count": 14,
   "metadata": {},
   "outputs": [],
   "source": [
    "# Intialize optimizer\n",
    "optimizer = torch.optim.SGD([{'params':\n",
    "                                  filter(lambda p: p.requires_grad,\n",
    "                                         model.parameters()),\n",
    "                                  'lr': config.TRAIN.LR}],\n",
    "                                lr=config.TRAIN.LR,\n",
    "                                momentum=config.TRAIN.MOMENTUM,\n",
    "                                weight_decay=config.TRAIN.WD,\n",
    "                                nesterov=config.TRAIN.NESTEROV,\n",
    "                                )"
   ]
  },
  {
   "cell_type": "code",
   "execution_count": 15,
   "metadata": {},
   "outputs": [],
   "source": [
    "# Create training function\n",
    "def train(train_loader, model, optimizer, criterion, epoch):\n",
    "    \n",
    "    model.train()\n",
    "\n",
    "    for batch_idx, (sample, target, road_image) in enumerate(train_loader):\n",
    "        \n",
    "        # Send to device\n",
    "        sample, road_image = torch.stack(sample).to(device),  torch.stack(road_image).float().to(device) # takes only one image for now\n",
    "        batch_size = sample.shape[0]\n",
    "        sample = sample.view(batch_size, -1, 256, 306) # torch.Size([3, 18, 256, 306])\n",
    "        # for now, take only one image\n",
    "        #sample = sample[:, 1, :, :]\n",
    "        \n",
    "        # Run through model\n",
    "        optimizer.zero_grad()\n",
    "        output = model(sample)\n",
    "        \n",
    "        # Calculate loss and take step\n",
    "        loss = criterion(output, road_image)\n",
    "        loss.backward()\n",
    "        optimizer.step()\n",
    "        \n",
    "        # Log progress\n",
    "        if batch_idx % 100 == 0:\n",
    "            print('\\tTrain Epoch: {} [{}/{} ({:.0f}%)]\\tLoss: {:.6f}'.format(\n",
    "                epoch, batch_idx * len(sample), len(train_loader.dataset),\n",
    "                100. * batch_idx / len(train_loader), loss.item()))\n",
    "                \n",
    "    return\n"
   ]
  },
  {
   "cell_type": "code",
   "execution_count": 16,
   "metadata": {},
   "outputs": [],
   "source": [
    "# Create an evaluation function\n",
    "def evaluate(val_loader, model, criterion):\n",
    "    model.eval()\n",
    "    losses = []\n",
    "    tp, fp, fn = 0, 0, 0\n",
    "    for batch_idx, (sample, target, road_image) in enumerate(val_loader):\n",
    "        # send to device\n",
    "        sample, road_image = torch.stack(sample).to(device), torch.stack(road_image).float().to(device) # takes only one image for now\n",
    "        batch_size = sample.shape[0]\n",
    "        sample = sample.view(batch_size, -1, 256, 306) # torch.Size([3, 18, 256, 306])\n",
    "        \n",
    "        with torch.no_grad():\n",
    "            output = model(sample)\n",
    "            \n",
    "        # Calculate loss\n",
    "        loss = criterion(output, road_image)\n",
    "        losses.append(loss)\n",
    "        \n",
    "        # Calculate TP, FP, FN for threat score\n",
    "        output_class = (output > 0.5).float()\n",
    "        tp = tp + torch.sum(torch.mul(output_class, road_image))\n",
    "        fp = fp + torch.sum(torch.mul(torch.eq(output_class, 1), torch.eq(road_image, 0)))\n",
    "        fn = fn + torch.sum(torch.mul(torch.eq(output_class, 0), torch.eq(road_image, 1)))\n",
    "    \n",
    "    # Calculate metrics\n",
    "    loss = sum(losses)/len(losses)\n",
    "    threat_score = tp/(tp+fp+fn)\n",
    "    \n",
    "    return loss, threat_score\n"
   ]
  },
  {
   "cell_type": "code",
   "execution_count": 17,
   "metadata": {},
   "outputs": [
    {
     "name": "stderr",
     "output_type": "stream",
     "text": [
      "/home/bs3743/.conda/envs/nlp/lib/python3.6/site-packages/torch/nn/functional.py:2506: UserWarning: Default upsampling behavior when mode=bilinear is changed to align_corners=False since 0.4.0. Please specify align_corners=True if the old behavior is desired. See the documentation of nn.Upsample for details.\n",
      "  \"See the documentation of nn.Upsample for details.\".format(mode))\n",
      "/home/bs3743/.conda/envs/nlp/lib/python3.6/site-packages/torch/nn/functional.py:2416: UserWarning: nn.functional.upsample is deprecated. Use nn.functional.interpolate instead.\n",
      "  warnings.warn(\"nn.functional.upsample is deprecated. Use nn.functional.interpolate instead.\")\n"
     ]
    },
    {
     "name": "stdout",
     "output_type": "stream",
     "text": [
      "\tTrain Epoch: 0 [0/2646 (0%)]\tLoss: 0.691431\n",
      "\tTrain Epoch: 0 [500/2646 (19%)]\tLoss: 0.416411\n",
      "\tTrain Epoch: 0 [1000/2646 (38%)]\tLoss: 0.345700\n",
      "\tTrain Epoch: 0 [1500/2646 (57%)]\tLoss: 0.382323\n",
      "\tTrain Epoch: 0 [2000/2646 (75%)]\tLoss: 0.323156\n",
      "\tTrain Epoch: 0 [2500/2646 (94%)]\tLoss: 0.336568\n",
      "Evaluating after Epoch 0:\n",
      "Val loss is 0.500869, threat score is 0.597588\n",
      "\tTrain Epoch: 1 [0/2646 (0%)]\tLoss: 0.350144\n",
      "\tTrain Epoch: 1 [500/2646 (19%)]\tLoss: 0.390007\n",
      "\tTrain Epoch: 1 [1000/2646 (38%)]\tLoss: 0.390539\n",
      "\tTrain Epoch: 1 [1500/2646 (57%)]\tLoss: 0.297388\n",
      "\tTrain Epoch: 1 [2000/2646 (75%)]\tLoss: 0.502754\n",
      "\tTrain Epoch: 1 [2500/2646 (94%)]\tLoss: 0.241669\n",
      "Evaluating after Epoch 1:\n",
      "Val loss is 0.456529, threat score is 0.595045\n",
      "\tTrain Epoch: 2 [0/2646 (0%)]\tLoss: 0.311796\n",
      "\tTrain Epoch: 2 [500/2646 (19%)]\tLoss: 0.430734\n",
      "\tTrain Epoch: 2 [1000/2646 (38%)]\tLoss: 0.609381\n",
      "\tTrain Epoch: 2 [1500/2646 (57%)]\tLoss: 0.287492\n",
      "\tTrain Epoch: 2 [2000/2646 (75%)]\tLoss: 0.235843\n",
      "\tTrain Epoch: 2 [2500/2646 (94%)]\tLoss: 0.306383\n",
      "Evaluating after Epoch 2:\n",
      "Val loss is 0.449239, threat score is 0.601524\n",
      "\tTrain Epoch: 3 [0/2646 (0%)]\tLoss: 0.249129\n",
      "\tTrain Epoch: 3 [500/2646 (19%)]\tLoss: 0.290529\n",
      "\tTrain Epoch: 3 [1000/2646 (38%)]\tLoss: 0.344650\n",
      "\tTrain Epoch: 3 [1500/2646 (57%)]\tLoss: 0.338945\n",
      "\tTrain Epoch: 3 [2000/2646 (75%)]\tLoss: 0.382726\n",
      "\tTrain Epoch: 3 [2500/2646 (94%)]\tLoss: 0.267461\n",
      "Evaluating after Epoch 3:\n",
      "Val loss is 0.458018, threat score is 0.578847\n",
      "\tTrain Epoch: 4 [0/2646 (0%)]\tLoss: 0.334621\n",
      "\tTrain Epoch: 4 [500/2646 (19%)]\tLoss: 0.300216\n",
      "\tTrain Epoch: 4 [1000/2646 (38%)]\tLoss: 0.256454\n",
      "\tTrain Epoch: 4 [1500/2646 (57%)]\tLoss: 0.223355\n",
      "\tTrain Epoch: 4 [2000/2646 (75%)]\tLoss: 0.371315\n",
      "\tTrain Epoch: 4 [2500/2646 (94%)]\tLoss: 0.204824\n",
      "Evaluating after Epoch 4:\n",
      "Val loss is 0.469269, threat score is 0.596293\n",
      "\tTrain Epoch: 5 [0/2646 (0%)]\tLoss: 0.339450\n",
      "\tTrain Epoch: 5 [500/2646 (19%)]\tLoss: 0.247904\n",
      "\tTrain Epoch: 5 [1000/2646 (38%)]\tLoss: 0.262434\n",
      "\tTrain Epoch: 5 [1500/2646 (57%)]\tLoss: 0.261807\n",
      "\tTrain Epoch: 5 [2000/2646 (75%)]\tLoss: 0.265272\n",
      "\tTrain Epoch: 5 [2500/2646 (94%)]\tLoss: 0.386487\n",
      "Evaluating after Epoch 5:\n",
      "Val loss is 0.478052, threat score is 0.580949\n",
      "\tTrain Epoch: 6 [0/2646 (0%)]\tLoss: 0.242043\n",
      "\tTrain Epoch: 6 [500/2646 (19%)]\tLoss: 0.253784\n",
      "\tTrain Epoch: 6 [1000/2646 (38%)]\tLoss: 0.552055\n",
      "\tTrain Epoch: 6 [1500/2646 (57%)]\tLoss: 0.145894\n",
      "\tTrain Epoch: 6 [2000/2646 (75%)]\tLoss: 0.312686\n",
      "\tTrain Epoch: 6 [2500/2646 (94%)]\tLoss: 0.207593\n",
      "Evaluating after Epoch 6:\n",
      "Val loss is 0.504431, threat score is 0.613366\n",
      "\tTrain Epoch: 7 [0/2646 (0%)]\tLoss: 0.243409\n",
      "\tTrain Epoch: 7 [500/2646 (19%)]\tLoss: 0.232895\n",
      "\tTrain Epoch: 7 [1000/2646 (38%)]\tLoss: 0.213087\n",
      "\tTrain Epoch: 7 [1500/2646 (57%)]\tLoss: 0.273232\n",
      "\tTrain Epoch: 7 [2000/2646 (75%)]\tLoss: 0.220554\n",
      "\tTrain Epoch: 7 [2500/2646 (94%)]\tLoss: 0.141421\n",
      "Evaluating after Epoch 7:\n",
      "Val loss is 0.464771, threat score is 0.599231\n",
      "\tTrain Epoch: 8 [0/2646 (0%)]\tLoss: 0.198572\n",
      "\tTrain Epoch: 8 [500/2646 (19%)]\tLoss: 0.265242\n",
      "\tTrain Epoch: 8 [1000/2646 (38%)]\tLoss: 0.222534\n",
      "\tTrain Epoch: 8 [1500/2646 (57%)]\tLoss: 0.182702\n",
      "\tTrain Epoch: 8 [2000/2646 (75%)]\tLoss: 0.242564\n",
      "\tTrain Epoch: 8 [2500/2646 (94%)]\tLoss: 0.213848\n",
      "Evaluating after Epoch 8:\n",
      "Val loss is 0.508942, threat score is 0.594191\n",
      "\tTrain Epoch: 9 [0/2646 (0%)]\tLoss: 0.313148\n",
      "\tTrain Epoch: 9 [500/2646 (19%)]\tLoss: 0.251858\n",
      "\tTrain Epoch: 9 [1000/2646 (38%)]\tLoss: 0.173228\n",
      "\tTrain Epoch: 9 [1500/2646 (57%)]\tLoss: 0.277479\n",
      "\tTrain Epoch: 9 [2000/2646 (75%)]\tLoss: 0.190107\n",
      "\tTrain Epoch: 9 [2500/2646 (94%)]\tLoss: 0.281077\n",
      "Evaluating after Epoch 9:\n",
      "Val loss is 0.479802, threat score is 0.640226\n"
     ]
    }
   ],
   "source": [
    "# Train\n",
    "\n",
    "min_val_loss = np.inf\n",
    "\n",
    "for epoch in range(10):\n",
    "    \n",
    "    # Train for one epoch\n",
    "    train(trainloader, model, optimizer, loss, epoch)\n",
    "    \n",
    "    # Evaluate at the end of the epoch\n",
    "    print(\"Evaluating after Epoch {}:\".format(epoch))\n",
    "    val_loss, val_threat_score = evaluate(valloader, model, loss)\n",
    "    print(\"Val loss is {:.6f}, threat score is {:.6f}\".format(val_loss, val_threat_score))\n",
    "    \n",
    "    # If this is the best model so far, save it\n",
    "    if val_loss < min_val_loss:\n",
    "        torch.save({\n",
    "            'epoch': epoch,\n",
    "            'config': config,\n",
    "            'model_state_dict': model.state_dict(),\n",
    "            'optimizer_state_dict': optimizer.state_dict(),\n",
    "            'val_loss': val_loss,\n",
    "            }, 'models/best_road_mapper_lr10e-5.pt')\n",
    "    \n"
   ]
  },
  {
   "cell_type": "code",
   "execution_count": 38,
   "metadata": {
    "scrolled": true
   },
   "outputs": [
    {
     "data": {
      "text/plain": [
       "<matplotlib.image.AxesImage at 0x2ba001ca62b0>"
      ]
     },
     "execution_count": 38,
     "metadata": {},
     "output_type": "execute_result"
    },
    {
     "data": {
      "image/png": "[encoded data removed]",
      "text/plain": [
       "<Figure size 144x144 with 1 Axes>"
      ]
     },
     "metadata": {
      "needs_background": "light"
     },
     "output_type": "display_data"
    }
   ],
   "source": [
    "matplotlib.rcParams['figure.figsize'] = [2, 2]\n",
    "\n",
    "# Visualize results\n",
    "sample, target, road_image = iter(valloader).next()\n",
    "image = sample[0].view(-1, 256, 306)\n",
    "#plt.imshow(image.numpy().transpose(1, 2, 0))\n",
    "#plt.axis('off')\n",
    "# True road image\n",
    "fig, ax = plt.subplots()\n",
    "ax.imshow(road_image[0], cmap='binary')"
   ]
  },
  {
   "cell_type": "code",
   "execution_count": 39,
   "metadata": {},
   "outputs": [
    {
     "data": {
      "text/plain": [
       "<matplotlib.image.AxesImage at 0x2ba001d118d0>"
      ]
     },
     "execution_count": 39,
     "metadata": {},
     "output_type": "execute_result"
    },
    {
     "data": {
      "image/png": "[encoded data removed]",
      "text/plain": [
       "<Figure size 144x144 with 1 Axes>"
      ]
     },
     "metadata": {
      "needs_background": "light"
     },
     "output_type": "display_data"
    }
   ],
   "source": [
    "# Predicted road image\n",
    "output = model(image.unsqueeze(0).to(device))\n",
    "fig, ax = plt.subplots()\n",
    "ax.imshow(output.cpu().detach().numpy().squeeze(0), cmap='binary')"
   ]
  },
  {
   "cell_type": "code",
   "execution_count": null,
   "metadata": {},
   "outputs": [],
   "source": []
  }
 ],
 "metadata": {
  "kernelspec": {
   "display_name": "Python 3",
   "language": "python",
   "name": "python3"
  },
  "language_info": {
   "codemirror_mode": {
    "name": "ipython",
    "version": 3
   },
   "file_extension": ".py",
   "mimetype": "text/x-python",
   "name": "python",
   "nbconvert_exporter": "python",
   "pygments_lexer": "ipython3",
   "version": "3.6.9"
  }
 },
 "nbformat": 4,
 "nbformat_minor": 4
}
