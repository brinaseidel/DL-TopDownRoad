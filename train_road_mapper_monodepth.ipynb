{
 "cells": [
  {
   "cell_type": "markdown",
   "metadata": {},
   "source": [
    "# Train RoadMapper model \n",
    "\n",
    "This notebook trains a model to take in six images from the car's point of view, and output a bird's eye view map of the road.\n",
    "\n",
    "It currently uses a modified version of [HRNet](https://github.com/HRNet/HRNet-Semantic-Segmentation) (Wang et. al. 2020)."
   ]
  },
  {
   "cell_type": "code",
   "execution_count": 1,
   "metadata": {},
   "outputs": [],
   "source": [
    "import os\n",
    "import random\n",
    "\n",
    "import numpy as np\n",
    "import pandas as pd\n",
    "\n",
    "import matplotlib\n",
    "import matplotlib.pyplot as plt\n",
    "matplotlib.rcParams['figure.figsize'] = [3, 3]\n",
    "matplotlib.rcParams['figure.dpi'] = 200\n",
    "\n",
    "import torch\n",
    "import torch.nn as nn\n",
    "import torch.nn.functional as F\n",
    "import torchvision\n",
    "\n",
    "from data_helper import UnlabeledDataset, LabeledDataset\n",
    "from helper import collate_fn, draw_box\n",
    "\n",
    "from hrnet import get_seg_model\n",
    "from hrnet_sixinput import get_seg_model_sixinput\n",
    "\n",
    "#!pip install yacs\n",
    "from yacs.config import CfgNode as CN\n",
    "\n",
    "import PIL.Image as pil\n",
    "\n",
    "from monodepth2.monodepth import MonoDepthEstimator"
   ]
  },
  {
   "cell_type": "code",
   "execution_count": 2,
   "metadata": {},
   "outputs": [
    {
     "data": {
      "text/plain": [
       "device(type='cuda', index=0)"
      ]
     },
     "execution_count": 2,
     "metadata": {},
     "output_type": "execute_result"
    }
   ],
   "source": [
    "device = torch.device(\"cuda:0\" if torch.cuda.is_available() else \"cpu\")\n",
    "torch.cuda.empty_cache()\n",
    "device"
   ]
  },
  {
   "cell_type": "code",
   "execution_count": 3,
   "metadata": {},
   "outputs": [],
   "source": [
    "random.seed(0)\n",
    "np.random.seed(0)\n",
    "torch.manual_seed(0);"
   ]
  },
  {
   "cell_type": "code",
   "execution_count": 4,
   "metadata": {},
   "outputs": [],
   "source": [
    "# All the images are saved in image_folder\n",
    "# All the labels are saved in the annotation_csv file\n",
    "image_folder = '/scratch/dy1078/dlproject/data'\n",
    "annotation_csv = '/scratch/dy1078/dlproject/data/annotation.csv'"
   ]
  },
  {
   "cell_type": "markdown",
   "metadata": {},
   "source": [
    "### Read in the labeled training data, and split into a training and validation set"
   ]
  },
  {
   "cell_type": "code",
   "execution_count": 5,
   "metadata": {},
   "outputs": [],
   "source": [
    "# The scenes from 106 - 133 are labeled\n",
    "labeled_scene_index = np.arange(106, 134)"
   ]
  },
  {
   "cell_type": "code",
   "execution_count": 6,
   "metadata": {},
   "outputs": [
    {
     "name": "stdout",
     "output_type": "stream",
     "text": [
      "Train scenes: 21 \n",
      "Val scenes: 7\n"
     ]
    }
   ],
   "source": [
    "# Split 75/25 into training and validation\n",
    "random.shuffle(labeled_scene_index)\n",
    "labeled_scene_index_train = labeled_scene_index[0:21]\n",
    "labeled_scene_index_val = labeled_scene_index[21:28]\n",
    "print(\"Train scenes: {} \\nVal scenes: {}\".format(len(labeled_scene_index_train), len(labeled_scene_index_val)))"
   ]
  },
  {
   "cell_type": "code",
   "execution_count": 7,
   "metadata": {},
   "outputs": [],
   "source": [
    "# model_name = \"/scratch/dy1078/monodepth2/models/weights_2/\"\n",
    "\n",
    "# encoder_path = os.path.join(model_name, \"encoder.pth\")\n",
    "# depth_decoder_path = os.path.join(model_name, \"depth.pth\")\n",
    "\n",
    "# # LOADING MODEL\n",
    "# encoder = networks.ResnetEncoder(18, False)\n",
    "# depth_decoder = networks.DepthDecoder(num_ch_enc=encoder.num_ch_enc, scales=range(4))\n",
    "\n",
    "# loaded_dict_enc = torch.load(encoder_path, map_location=device)\n",
    "# filtered_dict_enc = {k: v for k, v in loaded_dict_enc.items() if k in encoder.state_dict()}\n",
    "# encoder.load_state_dict(filtered_dict_enc)\n",
    "\n",
    "# loaded_dict = torch.load(depth_decoder_path, map_location=device)\n",
    "# depth_decoder.load_state_dict(loaded_dict)\n",
    "\n",
    "# encoder.eval()\n",
    "# depth_decoder.eval();"
   ]
  },
  {
   "cell_type": "code",
   "execution_count": 8,
   "metadata": {},
   "outputs": [],
   "source": [
    "# feed_height = loaded_dict_enc['height']\n",
    "# feed_width = loaded_dict_enc['width']\n",
    "\n",
    "# feed_height = 256\n",
    "# feed_width = 306"
   ]
  },
  {
   "cell_type": "code",
   "execution_count": 9,
   "metadata": {},
   "outputs": [],
   "source": [
    "# camera = 'CAM_FRONT_RIGHT.jpeg'\n",
    "# image_path = \"/scratch/dy1078/dlproject/data/scene_3/sample_2/\" + camera\n",
    "\n",
    "# input_image = pil.open(image_path)\n",
    "\n",
    "# original_width, original_height = input_image.size\n",
    "# input_image_resized = input_image.resize((feed_width, feed_height), pil.LANCZOS)\n",
    "\n",
    "# input_image_depth = torchvision.transforms.ToTensor()(input_image_resized).unsqueeze(0)\n",
    "# input_image_pytorch = torchvision.transforms.ToTensor()(input_image).unsqueeze(0)\n",
    "\n",
    "# with torch.no_grad():\n",
    "#     features = encoder(input_image_depth)\n",
    "#     outputs = depth_decoder(features)\n",
    "\n",
    "# disp = outputs[(\"disp\", 0)]\n",
    "\n",
    "# disp_resized = torch.nn.functional.interpolate(disp,\n",
    "#     (original_height, original_width), mode=\"bilinear\", align_corners=False)\n",
    "\n",
    "# # Saving colormapped depth image\n",
    "# disp_resized_np = disp_resized.squeeze()"
   ]
  },
  {
   "cell_type": "code",
   "execution_count": 10,
   "metadata": {},
   "outputs": [],
   "source": [
    "# disp_resized.shape\n",
    "# input_image_pytorch.shape\n",
    "# torch.cat((input_image_pytorch, disp_resized),1).shape"
   ]
  },
  {
   "cell_type": "code",
   "execution_count": 11,
   "metadata": {},
   "outputs": [
    {
     "data": {
      "text/plain": [
       "torch.Size([4, 256, 306])"
      ]
     },
     "execution_count": 11,
     "metadata": {},
     "output_type": "execute_result"
    }
   ],
   "source": [
    "camera = 'CAM_FRONT_RIGHT.jpeg'\n",
    "sample_image_path = \"/scratch/dy1078/dlproject/data/scene_3/sample_2/\" + camera\n",
    "\n",
    "input_image = pil.open(sample_image_path)\n",
    "MonoDepthEstimator(\"/scratch/dy1078/monodepth2/models/mono_model/models/weights_13/\")(input_image).size()"
   ]
  },
  {
   "cell_type": "code",
   "execution_count": 12,
   "metadata": {},
   "outputs": [],
   "source": [
    "# transform = torchvision.transforms.ToTensor()\n",
    "transform = MonoDepthEstimator(\"/scratch/dy1078/monodepth2/models/mono_model/models/weights_13/\")"
   ]
  },
  {
   "cell_type": "code",
   "execution_count": 13,
   "metadata": {},
   "outputs": [],
   "source": [
    "# The labeled dataset can only be retrieved by sample.\n",
    "# And all the returned data are tuple of tensors, since bounding boxes may have different size\n",
    "labeled_trainset = LabeledDataset(image_folder=image_folder,\n",
    "                                  annotation_file=annotation_csv,\n",
    "                                  scene_index=labeled_scene_index_train,\n",
    "                                  transform=transform,\n",
    "                                  extra_info=False\n",
    "                                 )\n",
    "trainloader = torch.utils.data.DataLoader(labeled_trainset, batch_size=2, shuffle=True, num_workers=2, collate_fn=collate_fn)"
   ]
  },
  {
   "cell_type": "code",
   "execution_count": 14,
   "metadata": {},
   "outputs": [],
   "source": [
    "labeled_valset = LabeledDataset(image_folder=image_folder,\n",
    "                                  annotation_file=annotation_csv,\n",
    "                                  scene_index=labeled_scene_index_val,\n",
    "                                  transform=transform,\n",
    "                                  extra_info=False\n",
    "                                 )\n",
    "valloader = torch.utils.data.DataLoader(labeled_valset, batch_size=2, shuffle=True, num_workers=2, collate_fn=collate_fn)"
   ]
  },
  {
   "cell_type": "code",
   "execution_count": 15,
   "metadata": {},
   "outputs": [
    {
     "name": "stdout",
     "output_type": "stream",
     "text": [
      "torch.Size([2, 6, 4, 256, 306])\n"
     ]
    }
   ],
   "source": [
    "sample, target, road_image = iter(trainloader).next()\n",
    "print(torch.stack(sample).shape)\n",
    "#print(torch.stack(sample)[:, 1, :, :].shape)"
   ]
  },
  {
   "cell_type": "markdown",
   "metadata": {},
   "source": [
    "### Train the model"
   ]
  },
  {
   "cell_type": "code",
   "execution_count": 16,
   "metadata": {},
   "outputs": [],
   "source": [
    "# Create model config\n",
    "# Note: I need to clean this up and move the whole config to a seperate file with the rest of it \n",
    "\n",
    "config = CN(new_allowed=True)\n",
    "config.defrost()\n",
    "config.merge_from_file(\"hrnet_config.yaml\")\n",
    "config.TRAIN.LR = 10e-4\n",
    "config.freeze()"
   ]
  },
  {
   "cell_type": "code",
   "execution_count": 17,
   "metadata": {},
   "outputs": [],
   "source": [
    "# Initialize model\n",
    "# model = get_seg_model(config, depth = True)\n",
    "model = get_seg_model_sixinput(config, depth = True)\n",
    "model = model.to(device)"
   ]
  },
  {
   "cell_type": "code",
   "execution_count": 18,
   "metadata": {},
   "outputs": [],
   "source": [
    "# Intialize loss\n",
    "loss = nn.BCELoss()"
   ]
  },
  {
   "cell_type": "code",
   "execution_count": 19,
   "metadata": {},
   "outputs": [],
   "source": [
    "# Intialize optimizer\n",
    "optimizer = torch.optim.SGD([{'params':\n",
    "                                  filter(lambda p: p.requires_grad,\n",
    "                                         model.parameters()),\n",
    "                                  'lr': config.TRAIN.LR}],\n",
    "                                lr=config.TRAIN.LR,\n",
    "                                momentum=config.TRAIN.MOMENTUM,\n",
    "                                weight_decay=config.TRAIN.WD,\n",
    "                                nesterov=config.TRAIN.NESTEROV,\n",
    "                                )"
   ]
  },
  {
   "cell_type": "code",
   "execution_count": 20,
   "metadata": {},
   "outputs": [],
   "source": [
    "# Create training function\n",
    "def train(train_loader, model, optimizer, criterion, epoch, sixinput):\n",
    "    \n",
    "    model.train()\n",
    "\n",
    "    for batch_idx, (sample, target, road_image) in enumerate(train_loader):\n",
    "        \n",
    "        # Send to device\n",
    "        sample, road_image = torch.stack(sample).to(device),  torch.stack(road_image).float().to(device) # takes only one image for now\n",
    "        \n",
    "        # Make input the correct shape\n",
    "        if sixinput==False:\n",
    "            batch_size = sample.shape[0]\n",
    "            sample = sample.view(batch_size, -1, 256, 306) # torch.Size([3, 18, 256, 306])\n",
    "        \n",
    "        # Run through model\n",
    "        optimizer.zero_grad()\n",
    "        output = model(sample)\n",
    "        \n",
    "        # Calculate loss and take step\n",
    "        loss = criterion(output, road_image)\n",
    "        loss.backward()\n",
    "        optimizer.step()\n",
    "        \n",
    "        # Log progress\n",
    "        if batch_idx % 100 == 0:\n",
    "            print('\\tTrain Epoch: {} [{}/{} ({:.0f}%)]\\tLoss: {:.6f}'.format(\n",
    "                epoch, batch_idx * len(sample), len(train_loader.dataset),\n",
    "                100. * batch_idx / len(train_loader), loss.item()))\n",
    "                \n",
    "    return\n"
   ]
  },
  {
   "cell_type": "code",
   "execution_count": 21,
   "metadata": {},
   "outputs": [],
   "source": [
    "# Create an evaluation function\n",
    "def evaluate(val_loader, model, criterion, sixinput):\n",
    "    model.eval()\n",
    "    losses = []\n",
    "    tp, fp, fn = 0, 0, 0\n",
    "    for batch_idx, (sample, target, road_image) in enumerate(val_loader):\n",
    "        # send to device\n",
    "        sample, road_image = torch.stack(sample).to(device), torch.stack(road_image).float().to(device) # takes only one image for now\n",
    "        \n",
    "        # Make input the correct shape\n",
    "        if sixinput==False:\n",
    "            batch_size = sample.shape[0]\n",
    "            sample = sample.view(batch_size, -1, 256, 306) # torch.Size([3, 18, 256, 306])\n",
    "        \n",
    "        with torch.no_grad():\n",
    "            output = model(sample)\n",
    "            \n",
    "        # Calculate loss\n",
    "        loss = criterion(output, road_image)\n",
    "        losses.append(loss)\n",
    "        \n",
    "        # Calculate TP, FP, FN for threat score\n",
    "        output_class = (output > 0.5).float()\n",
    "        tp = tp + torch.sum(torch.mul(output_class, road_image))\n",
    "        fp = fp + torch.sum(torch.mul(torch.eq(output_class, 1), torch.eq(road_image, 0)))\n",
    "        fn = fn + torch.sum(torch.mul(torch.eq(output_class, 0), torch.eq(road_image, 1)))\n",
    "    \n",
    "    # Calculate metrics\n",
    "    loss = sum(losses)/len(losses)\n",
    "    threat_score = tp/(tp+fp+fn)\n",
    "    \n",
    "    return loss, threat_score\n"
   ]
  },
  {
   "cell_type": "code",
   "execution_count": null,
   "metadata": {},
   "outputs": [
    {
     "name": "stderr",
     "output_type": "stream",
     "text": [
      "/home/dy1078/.local/lib/python3.7/site-packages/torch/nn/functional.py:2494: UserWarning: Default upsampling behavior when mode=bilinear is changed to align_corners=False since 0.4.0. Please specify align_corners=True if the old behavior is desired. See the documentation of nn.Upsample for details.\n",
      "  \"See the documentation of nn.Upsample for details.\".format(mode))\n",
      "/home/dy1078/.local/lib/python3.7/site-packages/torch/nn/functional.py:2404: UserWarning: nn.functional.upsample is deprecated. Use nn.functional.interpolate instead.\n",
      "  warnings.warn(\"nn.functional.upsample is deprecated. Use nn.functional.interpolate instead.\")\n"
     ]
    },
    {
     "name": "stdout",
     "output_type": "stream",
     "text": [
      "\tTrain Epoch: 0 [0/2646 (0%)]\tLoss: 0.690290\n",
      "\tTrain Epoch: 0 [200/2646 (8%)]\tLoss: 0.388822\n",
      "\tTrain Epoch: 0 [400/2646 (15%)]\tLoss: 0.277390\n",
      "\tTrain Epoch: 0 [600/2646 (23%)]\tLoss: 0.549126\n",
      "\tTrain Epoch: 0 [800/2646 (30%)]\tLoss: 0.517624\n",
      "\tTrain Epoch: 0 [1000/2646 (38%)]\tLoss: 0.503566\n",
      "\tTrain Epoch: 0 [1200/2646 (45%)]\tLoss: 0.321921\n",
      "\tTrain Epoch: 0 [1400/2646 (53%)]\tLoss: 0.420115\n",
      "\tTrain Epoch: 0 [1600/2646 (60%)]\tLoss: 0.377207\n",
      "\tTrain Epoch: 0 [1800/2646 (68%)]\tLoss: 0.270638\n",
      "\tTrain Epoch: 0 [2000/2646 (76%)]\tLoss: 0.237930\n",
      "\tTrain Epoch: 0 [2200/2646 (83%)]\tLoss: 0.222057\n",
      "\tTrain Epoch: 0 [2400/2646 (91%)]\tLoss: 0.276370\n",
      "\tTrain Epoch: 0 [2600/2646 (98%)]\tLoss: 0.321790\n",
      "Evaluating after Epoch 0:\n",
      "Val loss is 0.453238, threat score is 0.596359\n",
      "\tTrain Epoch: 1 [0/2646 (0%)]\tLoss: 0.432293\n",
      "\tTrain Epoch: 1 [200/2646 (8%)]\tLoss: 0.401298\n",
      "\tTrain Epoch: 1 [400/2646 (15%)]\tLoss: 0.293539\n",
      "\tTrain Epoch: 1 [600/2646 (23%)]\tLoss: 0.487087\n",
      "\tTrain Epoch: 1 [800/2646 (30%)]\tLoss: 0.380227\n",
      "\tTrain Epoch: 1 [1000/2646 (38%)]\tLoss: 0.392443\n",
      "\tTrain Epoch: 1 [1200/2646 (45%)]\tLoss: 0.405553\n",
      "\tTrain Epoch: 1 [1400/2646 (53%)]\tLoss: 0.383486\n",
      "\tTrain Epoch: 1 [1600/2646 (60%)]\tLoss: 0.253312\n",
      "\tTrain Epoch: 1 [1800/2646 (68%)]\tLoss: 0.251760\n",
      "\tTrain Epoch: 1 [2000/2646 (76%)]\tLoss: 0.219314\n",
      "\tTrain Epoch: 1 [2200/2646 (83%)]\tLoss: 0.404981\n",
      "\tTrain Epoch: 1 [2400/2646 (91%)]\tLoss: 0.398082\n",
      "\tTrain Epoch: 1 [2600/2646 (98%)]\tLoss: 0.215708\n",
      "Evaluating after Epoch 1:\n",
      "Val loss is 0.498439, threat score is 0.604576\n",
      "\tTrain Epoch: 2 [0/2646 (0%)]\tLoss: 0.531409\n",
      "\tTrain Epoch: 2 [200/2646 (8%)]\tLoss: 0.416553\n",
      "\tTrain Epoch: 2 [400/2646 (15%)]\tLoss: 0.307869\n",
      "\tTrain Epoch: 2 [600/2646 (23%)]\tLoss: 0.269608\n",
      "\tTrain Epoch: 2 [800/2646 (30%)]\tLoss: 0.276460\n",
      "\tTrain Epoch: 2 [1000/2646 (38%)]\tLoss: 0.204550\n",
      "\tTrain Epoch: 2 [1200/2646 (45%)]\tLoss: 0.270314\n",
      "\tTrain Epoch: 2 [1400/2646 (53%)]\tLoss: 0.365826\n",
      "\tTrain Epoch: 2 [1600/2646 (60%)]\tLoss: 0.223002\n",
      "\tTrain Epoch: 2 [1800/2646 (68%)]\tLoss: 0.310605\n",
      "\tTrain Epoch: 2 [2000/2646 (76%)]\tLoss: 0.586987\n",
      "\tTrain Epoch: 2 [2200/2646 (83%)]\tLoss: 0.359259\n",
      "\tTrain Epoch: 2 [2400/2646 (91%)]\tLoss: 0.420369\n",
      "\tTrain Epoch: 2 [2600/2646 (98%)]\tLoss: 0.195909\n",
      "Evaluating after Epoch 2:\n",
      "Val loss is 0.402670, threat score is 0.649610\n",
      "\tTrain Epoch: 3 [0/2646 (0%)]\tLoss: 0.298185\n",
      "\tTrain Epoch: 3 [200/2646 (8%)]\tLoss: 0.296645\n",
      "\tTrain Epoch: 3 [400/2646 (15%)]\tLoss: 0.268124\n",
      "\tTrain Epoch: 3 [600/2646 (23%)]\tLoss: 0.205903\n",
      "\tTrain Epoch: 3 [800/2646 (30%)]\tLoss: 0.295496\n",
      "\tTrain Epoch: 3 [1000/2646 (38%)]\tLoss: 0.114126\n",
      "\tTrain Epoch: 3 [1200/2646 (45%)]\tLoss: 0.371899\n",
      "\tTrain Epoch: 3 [1400/2646 (53%)]\tLoss: 0.223311\n",
      "\tTrain Epoch: 3 [1600/2646 (60%)]\tLoss: 0.538420\n",
      "\tTrain Epoch: 3 [1800/2646 (68%)]\tLoss: 0.156594\n",
      "\tTrain Epoch: 3 [2000/2646 (76%)]\tLoss: 0.235898\n",
      "\tTrain Epoch: 3 [2200/2646 (83%)]\tLoss: 0.371332\n",
      "\tTrain Epoch: 3 [2400/2646 (91%)]\tLoss: 0.270831\n",
      "\tTrain Epoch: 3 [2600/2646 (98%)]\tLoss: 0.265056\n",
      "Evaluating after Epoch 3:\n",
      "Val loss is 0.406546, threat score is 0.644478\n",
      "\tTrain Epoch: 4 [0/2646 (0%)]\tLoss: 0.223741\n",
      "\tTrain Epoch: 4 [200/2646 (8%)]\tLoss: 0.293877\n",
      "\tTrain Epoch: 4 [400/2646 (15%)]\tLoss: 0.267638\n",
      "\tTrain Epoch: 4 [600/2646 (23%)]\tLoss: 0.261972\n",
      "\tTrain Epoch: 4 [800/2646 (30%)]\tLoss: 0.432421\n",
      "\tTrain Epoch: 4 [1000/2646 (38%)]\tLoss: 0.405577\n",
      "\tTrain Epoch: 4 [1200/2646 (45%)]\tLoss: 0.186978\n",
      "\tTrain Epoch: 4 [1400/2646 (53%)]\tLoss: 0.308630\n",
      "\tTrain Epoch: 4 [1600/2646 (60%)]\tLoss: 0.335876\n",
      "\tTrain Epoch: 4 [1800/2646 (68%)]\tLoss: 0.274118\n",
      "\tTrain Epoch: 4 [2000/2646 (76%)]\tLoss: 0.223196\n",
      "\tTrain Epoch: 4 [2200/2646 (83%)]\tLoss: 0.173076\n",
      "\tTrain Epoch: 4 [2400/2646 (91%)]\tLoss: 0.212208\n",
      "\tTrain Epoch: 4 [2600/2646 (98%)]\tLoss: 0.307443\n",
      "Evaluating after Epoch 4:\n",
      "Val loss is 0.408651, threat score is 0.664598\n",
      "\tTrain Epoch: 5 [0/2646 (0%)]\tLoss: 0.254987\n",
      "\tTrain Epoch: 5 [200/2646 (8%)]\tLoss: 0.166108\n",
      "\tTrain Epoch: 5 [400/2646 (15%)]\tLoss: 0.083876\n",
      "\tTrain Epoch: 5 [600/2646 (23%)]\tLoss: 0.342762\n",
      "\tTrain Epoch: 5 [800/2646 (30%)]\tLoss: 0.332575\n",
      "\tTrain Epoch: 5 [1000/2646 (38%)]\tLoss: 0.161486\n",
      "\tTrain Epoch: 5 [1200/2646 (45%)]\tLoss: 0.219215\n",
      "\tTrain Epoch: 5 [1400/2646 (53%)]\tLoss: 0.071482\n",
      "\tTrain Epoch: 5 [1600/2646 (60%)]\tLoss: 0.178924\n",
      "\tTrain Epoch: 5 [1800/2646 (68%)]\tLoss: 0.066328\n",
      "\tTrain Epoch: 5 [2000/2646 (76%)]\tLoss: 0.289180\n",
      "\tTrain Epoch: 5 [2200/2646 (83%)]\tLoss: 0.544309\n",
      "\tTrain Epoch: 5 [2400/2646 (91%)]\tLoss: 0.314841\n",
      "\tTrain Epoch: 5 [2600/2646 (98%)]\tLoss: 0.161751\n",
      "Evaluating after Epoch 5:\n",
      "Val loss is 0.381183, threat score is 0.671533\n",
      "\tTrain Epoch: 6 [0/2646 (0%)]\tLoss: 0.144915\n",
      "\tTrain Epoch: 6 [200/2646 (8%)]\tLoss: 0.065734\n",
      "\tTrain Epoch: 6 [400/2646 (15%)]\tLoss: 0.103680\n",
      "\tTrain Epoch: 6 [600/2646 (23%)]\tLoss: 0.123123\n",
      "\tTrain Epoch: 6 [800/2646 (30%)]\tLoss: 0.168461\n",
      "\tTrain Epoch: 6 [1000/2646 (38%)]\tLoss: 0.202364\n",
      "\tTrain Epoch: 6 [1200/2646 (45%)]\tLoss: 0.122273\n",
      "\tTrain Epoch: 6 [1400/2646 (53%)]\tLoss: 0.079613\n",
      "\tTrain Epoch: 6 [1600/2646 (60%)]\tLoss: 0.212057\n",
      "\tTrain Epoch: 6 [1800/2646 (68%)]\tLoss: 0.090787\n",
      "\tTrain Epoch: 6 [2000/2646 (76%)]\tLoss: 0.059259\n",
      "\tTrain Epoch: 6 [2200/2646 (83%)]\tLoss: 0.051770\n",
      "\tTrain Epoch: 6 [2400/2646 (91%)]\tLoss: 0.236841\n",
      "\tTrain Epoch: 6 [2600/2646 (98%)]\tLoss: 0.133413\n",
      "Evaluating after Epoch 6:\n",
      "Val loss is 0.423356, threat score is 0.682243\n",
      "\tTrain Epoch: 7 [0/2646 (0%)]\tLoss: 0.209248\n",
      "\tTrain Epoch: 7 [200/2646 (8%)]\tLoss: 0.129053\n",
      "\tTrain Epoch: 7 [400/2646 (15%)]\tLoss: 0.177633\n",
      "\tTrain Epoch: 7 [600/2646 (23%)]\tLoss: 0.089072\n",
      "\tTrain Epoch: 7 [800/2646 (30%)]\tLoss: 0.200023\n",
      "\tTrain Epoch: 7 [1000/2646 (38%)]\tLoss: 0.134456\n",
      "\tTrain Epoch: 7 [1200/2646 (45%)]\tLoss: 0.077273\n",
      "\tTrain Epoch: 7 [1400/2646 (53%)]\tLoss: 0.248614\n",
      "\tTrain Epoch: 7 [1600/2646 (60%)]\tLoss: 0.218994\n",
      "\tTrain Epoch: 7 [1800/2646 (68%)]\tLoss: 0.059550\n",
      "\tTrain Epoch: 7 [2000/2646 (76%)]\tLoss: 0.067332\n",
      "\tTrain Epoch: 7 [2200/2646 (83%)]\tLoss: 0.109217\n",
      "\tTrain Epoch: 7 [2400/2646 (91%)]\tLoss: 0.239221\n",
      "\tTrain Epoch: 7 [2600/2646 (98%)]\tLoss: 0.173384\n",
      "Evaluating after Epoch 7:\n",
      "Val loss is 0.430064, threat score is 0.697348\n",
      "\tTrain Epoch: 8 [0/2646 (0%)]\tLoss: 0.053100\n",
      "\tTrain Epoch: 8 [200/2646 (8%)]\tLoss: 0.101109\n",
      "\tTrain Epoch: 8 [400/2646 (15%)]\tLoss: 0.107076\n",
      "\tTrain Epoch: 8 [600/2646 (23%)]\tLoss: 0.164139\n",
      "\tTrain Epoch: 8 [800/2646 (30%)]\tLoss: 0.207193\n",
      "\tTrain Epoch: 8 [1000/2646 (38%)]\tLoss: 0.085437\n",
      "\tTrain Epoch: 8 [1200/2646 (45%)]\tLoss: 0.156234\n",
      "\tTrain Epoch: 8 [1400/2646 (53%)]\tLoss: 0.149265\n",
      "\tTrain Epoch: 8 [1600/2646 (60%)]\tLoss: 0.149971\n",
      "\tTrain Epoch: 8 [1800/2646 (68%)]\tLoss: 0.145846\n",
      "\tTrain Epoch: 8 [2000/2646 (76%)]\tLoss: 0.079937\n",
      "\tTrain Epoch: 8 [2200/2646 (83%)]\tLoss: 0.179303\n",
      "\tTrain Epoch: 8 [2400/2646 (91%)]\tLoss: 0.204493\n",
      "\tTrain Epoch: 8 [2600/2646 (98%)]\tLoss: 0.261985\n",
      "Evaluating after Epoch 8:\n",
      "Val loss is 0.425563, threat score is 0.693615\n",
      "\tTrain Epoch: 9 [0/2646 (0%)]\tLoss: 0.139701\n",
      "\tTrain Epoch: 9 [200/2646 (8%)]\tLoss: 0.109713\n",
      "\tTrain Epoch: 9 [400/2646 (15%)]\tLoss: 0.050204\n",
      "\tTrain Epoch: 9 [600/2646 (23%)]\tLoss: 0.060207\n",
      "\tTrain Epoch: 9 [800/2646 (30%)]\tLoss: 0.110571\n",
      "\tTrain Epoch: 9 [1000/2646 (38%)]\tLoss: 0.157159\n",
      "\tTrain Epoch: 9 [1200/2646 (45%)]\tLoss: 0.144001\n",
      "\tTrain Epoch: 9 [1400/2646 (53%)]\tLoss: 0.154380\n",
      "\tTrain Epoch: 9 [1600/2646 (60%)]\tLoss: 0.170496\n",
      "\tTrain Epoch: 9 [1800/2646 (68%)]\tLoss: 0.176179\n",
      "\tTrain Epoch: 9 [2000/2646 (76%)]\tLoss: 0.052274\n",
      "\tTrain Epoch: 9 [2200/2646 (83%)]\tLoss: 0.108673\n",
      "\tTrain Epoch: 9 [2400/2646 (91%)]\tLoss: 0.097284\n",
      "\tTrain Epoch: 9 [2600/2646 (98%)]\tLoss: 0.146401\n",
      "Evaluating after Epoch 9:\n",
      "Val loss is 0.454546, threat score is 0.693493\n",
      "\tTrain Epoch: 10 [0/2646 (0%)]\tLoss: 0.097368\n",
      "\tTrain Epoch: 10 [200/2646 (8%)]\tLoss: 0.091328\n",
      "\tTrain Epoch: 10 [400/2646 (15%)]\tLoss: 0.095210\n",
      "\tTrain Epoch: 10 [600/2646 (23%)]\tLoss: 0.080507\n",
      "\tTrain Epoch: 10 [800/2646 (30%)]\tLoss: 0.124799\n",
      "\tTrain Epoch: 10 [1000/2646 (38%)]\tLoss: 0.123970\n",
      "\tTrain Epoch: 10 [1200/2646 (45%)]\tLoss: 0.088501\n",
      "\tTrain Epoch: 10 [1400/2646 (53%)]\tLoss: 0.135034\n",
      "\tTrain Epoch: 10 [1600/2646 (60%)]\tLoss: 0.056064\n",
      "\tTrain Epoch: 10 [1800/2646 (68%)]\tLoss: 0.091118\n",
      "\tTrain Epoch: 10 [2000/2646 (76%)]\tLoss: 0.057004\n",
      "\tTrain Epoch: 10 [2200/2646 (83%)]\tLoss: 0.111117\n",
      "\tTrain Epoch: 10 [2400/2646 (91%)]\tLoss: 0.139969\n",
      "\tTrain Epoch: 10 [2600/2646 (98%)]\tLoss: 0.102225\n",
      "Evaluating after Epoch 10:\n"
     ]
    },
    {
     "name": "stdout",
     "output_type": "stream",
     "text": [
      "Val loss is 0.539544, threat score is 0.698248\n",
      "\tTrain Epoch: 11 [0/2646 (0%)]\tLoss: 0.069949\n",
      "\tTrain Epoch: 11 [200/2646 (8%)]\tLoss: 0.057329\n",
      "\tTrain Epoch: 11 [400/2646 (15%)]\tLoss: 0.142656\n",
      "\tTrain Epoch: 11 [600/2646 (23%)]\tLoss: 0.212969\n",
      "\tTrain Epoch: 11 [800/2646 (30%)]\tLoss: 0.139316\n",
      "\tTrain Epoch: 11 [1000/2646 (38%)]\tLoss: 0.151920\n",
      "\tTrain Epoch: 11 [1200/2646 (45%)]\tLoss: 0.086967\n",
      "\tTrain Epoch: 11 [1400/2646 (53%)]\tLoss: 0.114253\n",
      "\tTrain Epoch: 11 [1600/2646 (60%)]\tLoss: 0.060740\n",
      "\tTrain Epoch: 11 [1800/2646 (68%)]\tLoss: 0.115255\n",
      "\tTrain Epoch: 11 [2000/2646 (76%)]\tLoss: 0.148925\n",
      "\tTrain Epoch: 11 [2200/2646 (83%)]\tLoss: 0.094183\n",
      "\tTrain Epoch: 11 [2400/2646 (91%)]\tLoss: 0.056417\n",
      "\tTrain Epoch: 11 [2600/2646 (98%)]\tLoss: 0.121203\n",
      "Evaluating after Epoch 11:\n",
      "Val loss is 0.515391, threat score is 0.708864\n",
      "\tTrain Epoch: 12 [0/2646 (0%)]\tLoss: 0.073502\n",
      "\tTrain Epoch: 12 [200/2646 (8%)]\tLoss: 0.118341\n",
      "\tTrain Epoch: 12 [400/2646 (15%)]\tLoss: 0.049472\n",
      "\tTrain Epoch: 12 [600/2646 (23%)]\tLoss: 0.114556\n",
      "\tTrain Epoch: 12 [800/2646 (30%)]\tLoss: 0.119368\n",
      "\tTrain Epoch: 12 [1000/2646 (38%)]\tLoss: 0.055596\n",
      "\tTrain Epoch: 12 [1200/2646 (45%)]\tLoss: 0.128896\n",
      "\tTrain Epoch: 12 [1400/2646 (53%)]\tLoss: 0.102156\n",
      "\tTrain Epoch: 12 [1600/2646 (60%)]\tLoss: 0.066519\n",
      "\tTrain Epoch: 12 [1800/2646 (68%)]\tLoss: 0.052671\n",
      "\tTrain Epoch: 12 [2000/2646 (76%)]\tLoss: 0.043178\n",
      "\tTrain Epoch: 12 [2200/2646 (83%)]\tLoss: 0.074609\n",
      "\tTrain Epoch: 12 [2400/2646 (91%)]\tLoss: 0.075480\n",
      "\tTrain Epoch: 12 [2600/2646 (98%)]\tLoss: 0.071387\n",
      "Evaluating after Epoch 12:\n"
     ]
    }
   ],
   "source": [
    "# Train\n",
    "\n",
    "max_val_threat_score = 0\n",
    "val_threat_score_hist = []\n",
    "val_loss_hist = []\n",
    "\n",
    "for epoch in range(30):\n",
    "    \n",
    "    # Train for one epoch\n",
    "    train(trainloader, model, optimizer, loss, epoch, sixinput=True)\n",
    "    \n",
    "    # Evaluate at the end of the epoch\n",
    "    print(\"Evaluating after Epoch {}:\".format(epoch))\n",
    "    val_loss, val_threat_score = evaluate(valloader, model, loss, sixinput=True)\n",
    "    print(\"Val loss is {:.6f}, threat score is {:.6f}\".format(val_loss, val_threat_score))\n",
    "    \n",
    "    # If this is the best model so far, save it\n",
    "    if val_threat_score > max_val_threat_score:\n",
    "        torch.save({\n",
    "            'epoch': epoch,\n",
    "            'config': config,\n",
    "            'model_state_dict': model.state_dict(),\n",
    "            'optimizer_state_dict': optimizer.state_dict(),\n",
    "            'val_loss': val_loss,\n",
    "            'val_threat_score': val_threat_score,\n",
    "            }, 'models/best_road_mapper_lr10e-4_sixinput_depth.pt')\n",
    "    \n",
    "    # Save loss \n",
    "    val_loss_hist.append(val_loss)\n",
    "    val_threat_score_hist.append(val_threat_score)\n",
    "\n",
    "checkpoint = torch.load('models/best_road_mapper_lr10e-4_sixinput_depth.pt')\n",
    "checkpoint['val_loss_hist'] = val_loss_hist\n",
    "checkpoint['val_threat_score_hist'] = val_threat_score_hist\n",
    "torch.save(checkpoint, 'models/best_road_mapper_lr10e-4_sixinput_depth.pt')"
   ]
  },
  {
   "cell_type": "code",
   "execution_count": 19,
   "metadata": {},
   "outputs": [],
   "source": [
    "# Load saved model\n",
    "checkpoint = torch.load('models/best_road_mapper_lr10e-5_sixinput.pt')\n",
    "model = get_seg_model_sixinput(checkpoint['config'])\n",
    "model.load_state_dict(checkpoint['model_state_dict'])\n",
    "model = model.to(device)"
   ]
  },
  {
   "cell_type": "code",
   "execution_count": 20,
   "metadata": {},
   "outputs": [
    {
     "data": {
      "text/plain": [
       "Text(0.5, 0, 'Epoch')"
      ]
     },
     "execution_count": 20,
     "metadata": {},
     "output_type": "execute_result"
    },
    {
     "data": {
      "image/png": "[encoded data removed]",
      "text/plain": [
       "<Figure size 576x288 with 1 Axes>"
      ]
     },
     "metadata": {
      "needs_background": "light"
     },
     "output_type": "display_data"
    }
   ],
   "source": [
    "# Plot loss vs threat score during training\n",
    "matplotlib.rcParams['figure.figsize'] = [8, 4]\n",
    "plt.plot(list(range(len(checkpoint['val_loss_hist']))), checkpoint['val_loss_hist'], label=\"Val Loss\", linewidth=3)\n",
    "plt.plot(list(range(len(checkpoint['val_loss_hist']))), checkpoint['val_threat_score_hist'], label=\"Val Threat Score\", linewidth=3)\n",
    "plt.legend()\n",
    "plt.xlabel('Epoch')"
   ]
  },
  {
   "cell_type": "code",
   "execution_count": null,
   "metadata": {
    "scrolled": true
   },
   "outputs": [],
   "source": [
    "matplotlib.rcParams['figure.figsize'] = [2, 2]\n",
    "\n",
    "# Visualize results\n",
    "sample, target, road_image = iter(valloader).next()\n",
    "image = sample[0][None, :, :, :]\n",
    "#plt.imshow(image.numpy().transpose(1, 2, 0))\n",
    "#plt.axis('off')\n",
    "# True road image\n",
    "fig, ax = plt.subplots()\n",
    "ax.imshow(road_image[0], cmap='binary')"
   ]
  },
  {
   "cell_type": "code",
   "execution_count": null,
   "metadata": {},
   "outputs": [],
   "source": [
    "# Predicted road image\n",
    "output = model(image.to(device))\n",
    "fig, ax = plt.subplots()\n",
    "ax.imshow(output.cpu().detach().numpy().squeeze(0), cmap='binary')\n",
    "plt.show()"
   ]
  },
  {
   "cell_type": "code",
   "execution_count": null,
   "metadata": {},
   "outputs": [],
   "source": [
    "# Predicted road image, with threshold\n",
    "output_binary = output[0, :, :] > 0.5\n",
    "fig, ax = plt.subplots()\n",
    "ax.imshow(output_binary.cpu().detach().numpy(), cmap='binary')"
   ]
  },
  {
   "cell_type": "code",
   "execution_count": null,
   "metadata": {},
   "outputs": [],
   "source": []
  },
  {
   "cell_type": "code",
   "execution_count": 2,
   "metadata": {},
   "outputs": [
    {
     "name": "stdout",
     "output_type": "stream",
     "text": [
      "\n",
      "Learning rate:  10e-4\n",
      "Sixinput:  False\n",
      "Model path:  models/best_road_mapper_lr10e-4.pt\n",
      "Validation threat score:  tensor(0.6924, device='cuda:0')\n",
      "\n",
      "Learning rate:  10e-4\n",
      "Sixinput:  True\n",
      "Model path:  models/best_road_mapper_lr10e-4_sixinput.pt\n",
      "Validation threat score:  tensor(0.6909, device='cuda:0')\n",
      "\n",
      "Learning rate:  10e-5\n",
      "Sixinput:  False\n",
      "Model path:  models/best_road_mapper_lr10e-5.pt\n",
      "Validation threat score:  tensor(0.7001, device='cuda:0')\n",
      "\n",
      "Learning rate:  10e-5\n",
      "Sixinput:  True\n",
      "Model path:  models/best_road_mapper_lr10e-5_sixinput.pt\n",
      "Validation threat score:  tensor(0.7083, device='cuda:0')\n",
      "\n",
      "Learning rate:  10e-6\n",
      "Sixinput:  False\n",
      "Model path:  models/best_road_mapper_lr10e-6.pt\n",
      "Validation threat score:  tensor(0.6925, device='cuda:0')\n",
      "\n",
      "Learning rate:  10e-6\n",
      "Sixinput:  True\n",
      "Model path:  models/best_road_mapper_lr10e-6_sixinput.pt\n",
      "Validation threat score:  tensor(0.6780, device='cuda:0')\n"
     ]
    }
   ],
   "source": [
    "# Check which model is best\n",
    "lrs = [\"10e-4\", \"10e-5\", \"10e-6\"]\n",
    "sixinput_opts = [\"\", \"_sixinput\"]\n",
    "\n",
    "for lr in lrs:\n",
    "    \n",
    "    for sixinput_opt in sixinput_opts:\n",
    "         \n",
    "        model_path = 'models/best_road_mapper_lr{}{}.pt'.format(lr, sixinput_opt)\n",
    "        checkpoint = torch.load(model_path)\n",
    "        print(\"\\nLearning rate: \", lr)\n",
    "        print(\"Sixinput: \", \"True\"if sixinput_opt !=\"\" else \"False\")\n",
    "        print(\"Model path: \", model_path)\n",
    "        print(\"Validation threat score: \", checkpoint['val_threat_score'])"
   ]
  },
  {
   "cell_type": "code",
   "execution_count": null,
   "metadata": {},
   "outputs": [],
   "source": []
  }
 ],
 "metadata": {
  "kernelspec": {
   "display_name": "Python 3",
   "language": "python",
   "name": "python3"
  },
  "language_info": {
   "codemirror_mode": {
    "name": "ipython",
    "version": 3
   },
   "file_extension": ".py",
   "mimetype": "text/x-python",
   "name": "python",
   "nbconvert_exporter": "python",
   "pygments_lexer": "ipython3",
   "version": "3.7.3"
  }
 },
 "nbformat": 4,
 "nbformat_minor": 4
}
